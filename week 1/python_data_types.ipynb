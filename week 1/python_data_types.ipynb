{
  "nbformat": 4,
  "nbformat_minor": 0,
  "metadata": {
    "colab": {
      "provenance": []
    },
    "kernelspec": {
      "name": "python3",
      "display_name": "Python 3"
    },
    "language_info": {
      "name": "python"
    }
  },
  "cells": [
    {
      "cell_type": "markdown",
      "source": [
        "# Numbers"
      ],
      "metadata": {
        "id": "YiqhwnZC0a2Q"
      }
    },
    {
      "cell_type": "code",
      "source": [
        "my_number=12345"
      ],
      "metadata": {
        "id": "QyAXRbz00PCq"
      },
      "execution_count": 2,
      "outputs": []
    },
    {
      "cell_type": "code",
      "source": [
        "type(my_number)"
      ],
      "metadata": {
        "colab": {
          "base_uri": "https://localhost:8080/"
        },
        "id": "j8GgTCCX0PMv",
        "outputId": "0b40f34d-912d-4562-d988-3857e0f0820d"
      },
      "execution_count": 3,
      "outputs": [
        {
          "output_type": "execute_result",
          "data": {
            "text/plain": [
              "int"
            ]
          },
          "metadata": {},
          "execution_count": 3
        }
      ]
    },
    {
      "cell_type": "code",
      "source": [
        "my_float=3.14\n",
        "print(type(my_float))\n",
        "print(my_float)"
      ],
      "metadata": {
        "colab": {
          "base_uri": "https://localhost:8080/"
        },
        "id": "EjtCI6T20Pbm",
        "outputId": "82ef3192-a275-43b7-b876-66d15fb462c7"
      },
      "execution_count": null,
      "outputs": [
        {
          "output_type": "stream",
          "name": "stdout",
          "text": [
            "<class 'float'>\n",
            "3.14\n"
          ]
        }
      ]
    },
    {
      "cell_type": "code",
      "source": [
        "print(15 + 5)\n",
        "print(14 - 3)\n",
        "print(15 + 3.3)\n",
        "print(6 / 5)\n",
        "print(6 / 3)\n",
        "print(6 // 5)\n",
        "print(8 % 2)\n",
        "print(5 % 3)"
      ],
      "metadata": {
        "colab": {
          "base_uri": "https://localhost:8080/"
        },
        "id": "hmQiywSV0Pmh",
        "outputId": "47c9155b-23f0-492a-d810-f3f7d4553eb4"
      },
      "execution_count": null,
      "outputs": [
        {
          "output_type": "stream",
          "name": "stdout",
          "text": [
            "20\n",
            "11\n",
            "18.3\n",
            "1.2\n",
            "2.0\n",
            "1\n",
            "0\n",
            "2\n",
            "2.0\n"
          ]
        }
      ]
    },
    {
      "cell_type": "markdown",
      "source": [
        "# Modulo"
      ],
      "metadata": {
        "id": "GS82ZkuAlF6z"
      }
    },
    {
      "cell_type": "code",
      "source": [
        "whole_part=int(5 / 3)\n",
        "decimal_part=5 / 3 - whole_part\n",
        "print(decimal_part)\n",
        "whole_remainder=decimal_part*3\n",
        "print(whole_remainder)"
      ],
      "metadata": {
        "colab": {
          "base_uri": "https://localhost:8080/"
        },
        "id": "EWG01uP60PwK",
        "outputId": "b72a3d6e-55b5-43c9-ca01-608dce2e418f"
      },
      "execution_count": null,
      "outputs": [
        {
          "output_type": "stream",
          "name": "stdout",
          "text": [
            "0.6666666666666667\n",
            "2.0\n"
          ]
        }
      ]
    },
    {
      "cell_type": "code",
      "source": [
        "round(3.1415,2)"
      ],
      "metadata": {
        "id": "90ckME3K0P5C"
      },
      "execution_count": null,
      "outputs": []
    },
    {
      "cell_type": "code",
      "source": [
        "print(type(round(3.1415)))"
      ],
      "metadata": {
        "colab": {
          "base_uri": "https://localhost:8080/"
        },
        "id": "xbmxsjz30QG9",
        "outputId": "e4ea0076-6fae-4d6d-9f3e-a0c913c4e664"
      },
      "execution_count": null,
      "outputs": [
        {
          "output_type": "stream",
          "name": "stdout",
          "text": [
            "<class 'int'>\n"
          ]
        }
      ]
    },
    {
      "cell_type": "code",
      "source": [
        "import math\n",
        "from decimal import Decimal"
      ],
      "metadata": {
        "id": "W8NWZQYT0QRV"
      },
      "execution_count": null,
      "outputs": []
    },
    {
      "cell_type": "code",
      "source": [
        "print(math.floor(3.99999))\n",
        "print(2 + 3 * 4)\n",
        "print((2 + 3) * 4)\n",
        "print(0.1 * 3)\n",
        "Decimal(\"0.1\") * 3\n",
        "\n"
      ],
      "metadata": {
        "colab": {
          "base_uri": "https://localhost:8080/"
        },
        "id": "odxDq--b0QaH",
        "outputId": "c7aa2b19-a3fc-40c0-af5a-1f15d8fe4a66"
      },
      "execution_count": null,
      "outputs": [
        {
          "output_type": "stream",
          "name": "stdout",
          "text": [
            "3\n",
            "14\n",
            "20\n",
            "0.30000000000000004\n"
          ]
        },
        {
          "output_type": "execute_result",
          "data": {
            "text/plain": [
              "Decimal('0.3')"
            ]
          },
          "metadata": {},
          "execution_count": 38
        }
      ]
    },
    {
      "cell_type": "code",
      "source": [
        "from numpy import random\n",
        "random.randint(0,99)"
      ],
      "metadata": {
        "colab": {
          "base_uri": "https://localhost:8080/"
        },
        "id": "WX3BqpZJ0Qk4",
        "outputId": "0b7aba51-4add-444f-91c5-8e1cd5f0c085"
      },
      "execution_count": null,
      "outputs": [
        {
          "output_type": "execute_result",
          "data": {
            "text/plain": [
              "8"
            ]
          },
          "metadata": {},
          "execution_count": 42
        }
      ]
    },
    {
      "cell_type": "code",
      "source": [
        "my_string='\"my text is important\"'\n",
        "print(my_string)"
      ],
      "metadata": {
        "colab": {
          "base_uri": "https://localhost:8080/"
        },
        "id": "y77ezL470Qti",
        "outputId": "5502211b-151d-4a0e-92a4-820a2a1409ca"
      },
      "execution_count": 4,
      "outputs": [
        {
          "output_type": "stream",
          "name": "stdout",
          "text": [
            "\"my text is important\"\n"
          ]
        }
      ]
    },
    {
      "cell_type": "code",
      "source": [
        "long_string = '''\n",
        "\n",
        "##text\n",
        "      example\n",
        "'''\n",
        "print(long_string)\n",
        "str(type(my_string))\n",
        "print(my_string[0])\n",
        "my_string\n",
        "len(my_string)"
      ],
      "metadata": {
        "colab": {
          "base_uri": "https://localhost:8080/"
        },
        "id": "z5hST-hs0Q27",
        "outputId": "1dbc011f-f9ad-459c-f964-b9cdc19f8431"
      },
      "execution_count": 5,
      "outputs": [
        {
          "output_type": "stream",
          "name": "stdout",
          "text": [
            "\n",
            "\n",
            "##text\n",
            "      example\n",
            "\n",
            "\"\n"
          ]
        },
        {
          "output_type": "execute_result",
          "data": {
            "text/plain": [
              "22"
            ]
          },
          "metadata": {},
          "execution_count": 5
        }
      ]
    },
    {
      "cell_type": "code",
      "source": [
        "my_number = 42\n",
        "my_number = str(my_number)\n",
        "print(type(my_number))"
      ],
      "metadata": {
        "colab": {
          "base_uri": "https://localhost:8080/"
        },
        "id": "MNDek_Oglk62",
        "outputId": "7027bdbe-6a81-4b87-eff8-d0a0038d71a4"
      },
      "execution_count": 6,
      "outputs": [
        {
          "output_type": "stream",
          "name": "stdout",
          "text": [
            "<class 'str'>\n"
          ]
        }
      ]
    },
    {
      "cell_type": "code",
      "source": [
        "'''import Slice\n",
        "<string>[<start>:stop]:stop:<step>'''"
      ],
      "metadata": {
        "id": "YNRqPlQm0RDB",
        "colab": {
          "base_uri": "https://localhost:8080/",
          "height": 37
        },
        "outputId": "cbc51c66-c3bc-4de3-a0a9-7d934142e5ba"
      },
      "execution_count": 9,
      "outputs": [
        {
          "output_type": "execute_result",
          "data": {
            "text/plain": [
              "'import Slice\\n<string>[<start>:stop]:stop:<step>'"
            ],
            "application/vnd.google.colaboratory.intrinsic+json": {
              "type": "string"
            }
          },
          "metadata": {},
          "execution_count": 9
        }
      ]
    },
    {
      "cell_type": "code",
      "source": [
        "print(my_string[1:4])\n",
        "print(my_string[:4])\n",
        "print(my_string[1:])\n",
        "print(my_string[::-1])"
      ],
      "metadata": {
        "id": "L3n2Ah-e0RLp"
      },
      "execution_count": null,
      "outputs": []
    },
    {
      "cell_type": "code",
      "source": [
        "my_string.split()"
      ],
      "metadata": {
        "colab": {
          "base_uri": "https://localhost:8080/"
        },
        "id": "mZTRTWMT0RU2",
        "outputId": "228b41f1-7174-4c74-f7c6-e355ca1f6866"
      },
      "execution_count": null,
      "outputs": [
        {
          "output_type": "execute_result",
          "data": {
            "text/plain": [
              "['\"my', 'text', 'is', 'important\"']"
            ]
          },
          "metadata": {},
          "execution_count": 53
        }
      ]
    },
    {
      "cell_type": "code",
      "source": [
        "animals= [\"cat\",\"dog\",\"horse\"]\n",
        "\", \".join(animals)\n"
      ],
      "metadata": {
        "colab": {
          "base_uri": "https://localhost:8080/",
          "height": 37
        },
        "id": "rz2t0tlV0Rdx",
        "outputId": "5f4bb83c-16cd-4da0-d629-d7c5d369a78d"
      },
      "execution_count": null,
      "outputs": [
        {
          "output_type": "execute_result",
          "data": {
            "text/plain": [
              "'cat, dog, horse'"
            ],
            "application/vnd.google.colaboratory.intrinsic+json": {
              "type": "string"
            }
          },
          "metadata": {},
          "execution_count": 56
        }
      ]
    },
    {
      "cell_type": "code",
      "source": [
        "for item in my_string:\n",
        "  print(item)"
      ],
      "metadata": {
        "colab": {
          "base_uri": "https://localhost:8080/"
        },
        "id": "VXhM_O0G0Roz",
        "outputId": "3ae05afb-3397-4306-dd16-74d0f212c224"
      },
      "execution_count": null,
      "outputs": [
        {
          "output_type": "stream",
          "name": "stdout",
          "text": [
            "\"\n",
            "m\n",
            "y\n",
            " \n",
            "t\n",
            "e\n",
            "x\n",
            "t\n",
            " \n",
            "i\n",
            "s\n",
            " \n",
            "i\n",
            "m\n",
            "p\n",
            "o\n",
            "r\n",
            "t\n",
            "a\n",
            "n\n",
            "t\n",
            "\"\n"
          ]
        }
      ]
    },
    {
      "cell_type": "markdown",
      "source": [
        "# fstrings"
      ],
      "metadata": {
        "id": "e1lBUm_QmwcG"
      }
    },
    {
      "cell_type": "code",
      "source": [
        "#fstrings"
      ],
      "metadata": {
        "id": "l1npnCyd0Ryn"
      },
      "execution_count": null,
      "outputs": []
    },
    {
      "cell_type": "code",
      "source": [
        "name = \"nursena\"\n",
        "age= 22\n",
        "print(f\"I'm {name} and I'am {age} \")"
      ],
      "metadata": {
        "id": "fs49Hn1o0R76"
      },
      "execution_count": null,
      "outputs": []
    },
    {
      "cell_type": "code",
      "source": [
        "import datetime\n",
        "today= datetime.datetime.today()\n",
        "print(f\"{today}:%d %B %Y\" )"
      ],
      "metadata": {
        "colab": {
          "base_uri": "https://localhost:8080/"
        },
        "id": "-PVrIrxz0SGi",
        "outputId": "cc7767ca-d828-42bc-fb36-6d342aa248d9"
      },
      "execution_count": null,
      "outputs": [
        {
          "output_type": "stream",
          "name": "stdout",
          "text": [
            "2023-11-26 10:48:50.440886:%d %B %Y\n"
          ]
        }
      ]
    },
    {
      "cell_type": "markdown",
      "source": [
        "# Boolean"
      ],
      "metadata": {
        "id": "cOxHg3F9nMg5"
      }
    },
    {
      "cell_type": "code",
      "source": [
        "# Boolean\n",
        "bool(1)"
      ],
      "metadata": {
        "id": "DcMX3p7N0SPl"
      },
      "execution_count": null,
      "outputs": []
    },
    {
      "cell_type": "code",
      "source": [
        "bool(0)"
      ],
      "metadata": {
        "colab": {
          "base_uri": "https://localhost:8080/"
        },
        "id": "huz1w9ua0SZ0",
        "outputId": "eccd046b-81c7-486f-a5d7-64747edea83a"
      },
      "execution_count": null,
      "outputs": [
        {
          "output_type": "execute_result",
          "data": {
            "text/plain": [
              "False"
            ]
          },
          "metadata": {},
          "execution_count": 67
        }
      ]
    },
    {
      "cell_type": "code",
      "source": [
        "my_variable=0\n",
        "if my_variable:\n",
        "  print(\"yes it is true\")\n",
        "else:\n",
        "  print(\"no it is false\")"
      ],
      "metadata": {
        "id": "ooPUTPTp0Sj8"
      },
      "execution_count": null,
      "outputs": []
    },
    {
      "cell_type": "code",
      "source": [
        "my_variable is True"
      ],
      "metadata": {
        "colab": {
          "base_uri": "https://localhost:8080/"
        },
        "id": "AVT5sJ590Stl",
        "outputId": "deb00709-9bed-4ce3-bdc9-41917346e59d"
      },
      "execution_count": null,
      "outputs": [
        {
          "output_type": "execute_result",
          "data": {
            "text/plain": [
              "False"
            ]
          },
          "metadata": {},
          "execution_count": 70
        }
      ]
    },
    {
      "cell_type": "code",
      "source": [],
      "metadata": {
        "id": "u21USmKa0S5w"
      },
      "execution_count": null,
      "outputs": []
    }
  ]
}