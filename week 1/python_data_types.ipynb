{
  "cells": [
    {
      "cell_type": "markdown",
      "metadata": {
        "id": "YiqhwnZC0a2Q"
      },
      "source": [
        "# Numbers"
      ]
    },
    {
      "cell_type": "code",
      "execution_count": 2,
      "metadata": {
        "id": "QyAXRbz00PCq"
      },
      "outputs": [],
      "source": [
        "my_number=12345"
      ]
    },
    {
      "cell_type": "code",
      "execution_count": 3,
      "metadata": {
        "colab": {
          "base_uri": "https://localhost:8080/"
        },
        "id": "j8GgTCCX0PMv",
        "outputId": "0b40f34d-912d-4562-d988-3857e0f0820d"
      },
      "outputs": [
        {
          "data": {
            "text/plain": [
              "int"
            ]
          },
          "execution_count": 3,
          "metadata": {},
          "output_type": "execute_result"
        }
      ],
      "source": [
        "type(my_number)"
      ]
    },
    {
      "cell_type": "code",
      "execution_count": null,
      "metadata": {
        "colab": {
          "base_uri": "https://localhost:8080/"
        },
        "id": "EjtCI6T20Pbm",
        "outputId": "82ef3192-a275-43b7-b876-66d15fb462c7"
      },
      "outputs": [
        {
          "name": "stdout",
          "output_type": "stream",
          "text": [
            "<class 'float'>\n",
            "3.14\n"
          ]
        }
      ],
      "source": [
        "my_float=3.14\n",
        "print(type(my_float))\n",
        "print(my_float)"
      ]
    },
    {
      "cell_type": "code",
      "execution_count": null,
      "metadata": {
        "colab": {
          "base_uri": "https://localhost:8080/"
        },
        "id": "hmQiywSV0Pmh",
        "outputId": "47c9155b-23f0-492a-d810-f3f7d4553eb4"
      },
      "outputs": [
        {
          "name": "stdout",
          "output_type": "stream",
          "text": [
            "20\n",
            "11\n",
            "18.3\n",
            "1.2\n",
            "2.0\n",
            "1\n",
            "0\n",
            "2\n",
            "2.0\n"
          ]
        }
      ],
      "source": [
        "print(15 + 5)\n",
        "print(14 - 3)\n",
        "print(15 + 3.3)\n",
        "print(6 / 5)\n",
        "print(6 / 3)\n",
        "print(6 // 5)\n",
        "print(8 % 2)\n",
        "print(5 % 3)"
      ]
    },
    {
      "cell_type": "markdown",
      "metadata": {
        "id": "GS82ZkuAlF6z"
      },
      "source": [
        "# Modulo"
      ]
    },
    {
      "cell_type": "code",
      "execution_count": null,
      "metadata": {
        "colab": {
          "base_uri": "https://localhost:8080/"
        },
        "id": "EWG01uP60PwK",
        "outputId": "b72a3d6e-55b5-43c9-ca01-608dce2e418f"
      },
      "outputs": [
        {
          "name": "stdout",
          "output_type": "stream",
          "text": [
            "0.6666666666666667\n",
            "2.0\n"
          ]
        }
      ],
      "source": [
        "whole_part=int(5 / 3)\n",
        "decimal_part=5 / 3 - whole_part\n",
        "print(decimal_part)\n",
        "whole_remainder=decimal_part*3\n",
        "print(whole_remainder)"
      ]
    },
    {
      "cell_type": "code",
      "execution_count": null,
      "metadata": {
        "id": "90ckME3K0P5C"
      },
      "outputs": [],
      "source": [
        "round(3.1415,2)"
      ]
    },
    {
      "cell_type": "code",
      "execution_count": null,
      "metadata": {
        "colab": {
          "base_uri": "https://localhost:8080/"
        },
        "id": "xbmxsjz30QG9",
        "outputId": "e4ea0076-6fae-4d6d-9f3e-a0c913c4e664"
      },
      "outputs": [
        {
          "name": "stdout",
          "output_type": "stream",
          "text": [
            "<class 'int'>\n"
          ]
        }
      ],
      "source": [
        "print(type(round(3.1415)))"
      ]
    },
    {
      "cell_type": "code",
      "execution_count": null,
      "metadata": {
        "id": "W8NWZQYT0QRV"
      },
      "outputs": [],
      "source": [
        "import math\n",
        "from decimal import Decimal"
      ]
    },
    {
      "cell_type": "code",
      "execution_count": null,
      "metadata": {
        "colab": {
          "base_uri": "https://localhost:8080/"
        },
        "id": "odxDq--b0QaH",
        "outputId": "c7aa2b19-a3fc-40c0-af5a-1f15d8fe4a66"
      },
      "outputs": [
        {
          "name": "stdout",
          "output_type": "stream",
          "text": [
            "3\n",
            "14\n",
            "20\n",
            "0.30000000000000004\n"
          ]
        },
        {
          "data": {
            "text/plain": [
              "Decimal('0.3')"
            ]
          },
          "execution_count": 38,
          "metadata": {},
          "output_type": "execute_result"
        }
      ],
      "source": [
        "print(math.floor(3.99999))\n",
        "print(2 + 3 * 4)\n",
        "print((2 + 3) * 4)\n",
        "print(0.1 * 3)\n",
        "Decimal(\"0.1\") * 3\n",
        "\n"
      ]
    },
    {
      "cell_type": "code",
      "execution_count": null,
      "metadata": {
        "colab": {
          "base_uri": "https://localhost:8080/"
        },
        "id": "WX3BqpZJ0Qk4",
        "outputId": "0b7aba51-4add-444f-91c5-8e1cd5f0c085"
      },
      "outputs": [
        {
          "data": {
            "text/plain": [
              "8"
            ]
          },
          "execution_count": 42,
          "metadata": {},
          "output_type": "execute_result"
        }
      ],
      "source": [
        "from numpy import random\n",
        "random.randint(0,99)"
      ]
    },
    {
      "cell_type": "code",
      "execution_count": 4,
      "metadata": {
        "colab": {
          "base_uri": "https://localhost:8080/"
        },
        "id": "y77ezL470Qti",
        "outputId": "5502211b-151d-4a0e-92a4-820a2a1409ca"
      },
      "outputs": [
        {
          "name": "stdout",
          "output_type": "stream",
          "text": [
            "\"my text is important\"\n"
          ]
        }
      ],
      "source": [
        "my_string='\"my text is important\"'\n",
        "print(my_string)"
      ]
    },
    {
      "cell_type": "code",
      "execution_count": 5,
      "metadata": {
        "colab": {
          "base_uri": "https://localhost:8080/"
        },
        "id": "z5hST-hs0Q27",
        "outputId": "1dbc011f-f9ad-459c-f964-b9cdc19f8431"
      },
      "outputs": [
        {
          "name": "stdout",
          "output_type": "stream",
          "text": [
            "\n",
            "\n",
            "##text\n",
            "      example\n",
            "\n",
            "\"\n"
          ]
        },
        {
          "data": {
            "text/plain": [
              "22"
            ]
          },
          "execution_count": 5,
          "metadata": {},
          "output_type": "execute_result"
        }
      ],
      "source": [
        "long_string = '''\n",
        "\n",
        "##text\n",
        "      example\n",
        "'''\n",
        "print(long_string)\n",
        "str(type(my_string))\n",
        "print(my_string[0])\n",
        "my_string\n",
        "len(my_string)"
      ]
    },
    {
      "cell_type": "code",
      "execution_count": 6,
      "metadata": {
        "colab": {
          "base_uri": "https://localhost:8080/"
        },
        "id": "MNDek_Oglk62",
        "outputId": "7027bdbe-6a81-4b87-eff8-d0a0038d71a4"
      },
      "outputs": [
        {
          "name": "stdout",
          "output_type": "stream",
          "text": [
            "<class 'str'>\n"
          ]
        }
      ],
      "source": [
        "my_number = 42\n",
        "my_number = str(my_number)\n",
        "print(type(my_number))"
      ]
    },
    {
      "cell_type": "code",
      "execution_count": 9,
      "metadata": {
        "colab": {
          "base_uri": "https://localhost:8080/",
          "height": 37
        },
        "id": "YNRqPlQm0RDB",
        "outputId": "cbc51c66-c3bc-4de3-a0a9-7d934142e5ba"
      },
      "outputs": [
        {
          "data": {
            "application/vnd.google.colaboratory.intrinsic+json": {
              "type": "string"
            },
            "text/plain": [
              "'import Slice\\n<string>[<start>:stop]:stop:<step>'"
            ]
          },
          "execution_count": 9,
          "metadata": {},
          "output_type": "execute_result"
        }
      ],
      "source": [
        "'''import Slice\n",
        "<string>[<start>:stop]:stop:<step>'''"
      ]
    },
    {
      "cell_type": "code",
      "execution_count": null,
      "metadata": {
        "id": "L3n2Ah-e0RLp"
      },
      "outputs": [],
      "source": [
        "print(my_string[1:4])\n",
        "print(my_string[:4])\n",
        "print(my_string[1:])\n",
        "print(my_string[::-1])"
      ]
    },
    {
      "cell_type": "code",
      "execution_count": null,
      "metadata": {
        "colab": {
          "base_uri": "https://localhost:8080/"
        },
        "id": "mZTRTWMT0RU2",
        "outputId": "228b41f1-7174-4c74-f7c6-e355ca1f6866"
      },
      "outputs": [
        {
          "data": {
            "text/plain": [
              "['\"my', 'text', 'is', 'important\"']"
            ]
          },
          "execution_count": 53,
          "metadata": {},
          "output_type": "execute_result"
        }
      ],
      "source": [
        "my_string.split()"
      ]
    },
    {
      "cell_type": "code",
      "execution_count": null,
      "metadata": {
        "colab": {
          "base_uri": "https://localhost:8080/",
          "height": 37
        },
        "id": "rz2t0tlV0Rdx",
        "outputId": "5f4bb83c-16cd-4da0-d629-d7c5d369a78d"
      },
      "outputs": [
        {
          "data": {
            "application/vnd.google.colaboratory.intrinsic+json": {
              "type": "string"
            },
            "text/plain": [
              "'cat, dog, horse'"
            ]
          },
          "execution_count": 56,
          "metadata": {},
          "output_type": "execute_result"
        }
      ],
      "source": [
        "animals= [\"cat\",\"dog\",\"horse\"]\n",
        "\", \".join(animals)\n"
      ]
    },
    {
      "cell_type": "code",
      "execution_count": null,
      "metadata": {
        "colab": {
          "base_uri": "https://localhost:8080/"
        },
        "id": "VXhM_O0G0Roz",
        "outputId": "3ae05afb-3397-4306-dd16-74d0f212c224"
      },
      "outputs": [
        {
          "name": "stdout",
          "output_type": "stream",
          "text": [
            "\"\n",
            "m\n",
            "y\n",
            " \n",
            "t\n",
            "e\n",
            "x\n",
            "t\n",
            " \n",
            "i\n",
            "s\n",
            " \n",
            "i\n",
            "m\n",
            "p\n",
            "o\n",
            "r\n",
            "t\n",
            "a\n",
            "n\n",
            "t\n",
            "\"\n"
          ]
        }
      ],
      "source": [
        "for item in my_string:\n",
        "  print(item)"
      ]
    },
    {
      "cell_type": "markdown",
      "metadata": {
        "id": "e1lBUm_QmwcG"
      },
      "source": [
        "# fstrings"
      ]
    },
    {
      "cell_type": "code",
      "execution_count": null,
      "metadata": {
        "id": "l1npnCyd0Ryn"
      },
      "outputs": [],
      "source": [
        "#fstrings"
      ]
    },
    {
      "cell_type": "code",
      "execution_count": null,
      "metadata": {
        "id": "fs49Hn1o0R76"
      },
      "outputs": [],
      "source": [
        "name = \"nursena\"\n",
        "age= 22\n",
        "print(f\"I'm {name} and I'am {age} \")"
      ]
    },
    {
      "cell_type": "code",
      "execution_count": null,
      "metadata": {
        "colab": {
          "base_uri": "https://localhost:8080/"
        },
        "id": "-PVrIrxz0SGi",
        "outputId": "cc7767ca-d828-42bc-fb36-6d342aa248d9"
      },
      "outputs": [
        {
          "name": "stdout",
          "output_type": "stream",
          "text": [
            "2023-11-26 10:48:50.440886:%d %B %Y\n"
          ]
        }
      ],
      "source": [
        "import datetime\n",
        "today= datetime.datetime.today()\n",
        "print(f\"{today}:%d %B %Y\" )"
      ]
    },
    {
      "cell_type": "markdown",
      "metadata": {
        "id": "cOxHg3F9nMg5"
      },
      "source": [
        "# Boolean"
      ]
    },
    {
      "cell_type": "code",
      "execution_count": null,
      "metadata": {
        "id": "DcMX3p7N0SPl"
      },
      "outputs": [],
      "source": [
        "# Boolean\n",
        "bool(1)"
      ]
    },
    {
      "cell_type": "code",
      "execution_count": null,
      "metadata": {
        "colab": {
          "base_uri": "https://localhost:8080/"
        },
        "id": "huz1w9ua0SZ0",
        "outputId": "eccd046b-81c7-486f-a5d7-64747edea83a"
      },
      "outputs": [
        {
          "data": {
            "text/plain": [
              "False"
            ]
          },
          "execution_count": 67,
          "metadata": {},
          "output_type": "execute_result"
        }
      ],
      "source": [
        "bool(0)"
      ]
    },
    {
      "cell_type": "code",
      "execution_count": null,
      "metadata": {
        "id": "ooPUTPTp0Sj8"
      },
      "outputs": [],
      "source": [
        "my_variable=0\n",
        "if my_variable:\n",
        "  print(\"yes it is true\")\n",
        "else:\n",
        "  print(\"no it is false\")"
      ]
    },
    {
      "cell_type": "code",
      "execution_count": null,
      "metadata": {
        "colab": {
          "base_uri": "https://localhost:8080/"
        },
        "id": "AVT5sJ590Stl",
        "outputId": "deb00709-9bed-4ce3-bdc9-41917346e59d"
      },
      "outputs": [
        {
          "data": {
            "text/plain": [
              "False"
            ]
          },
          "execution_count": 70,
          "metadata": {},
          "output_type": "execute_result"
        }
      ],
      "source": [
        "my_variable is True"
      ]
    },
    {
      "cell_type": "code",
      "execution_count": null,
      "metadata": {
        "id": "u21USmKa0S5w"
      },
      "outputs": [],
      "source": []
    }
  ],
  "metadata": {
    "colab": {
      "provenance": []
    },
    "kernelspec": {
      "display_name": "Python 3",
      "name": "python3"
    },
    "language_info": {
      "name": "python"
    }
  },
  "nbformat": 4,
  "nbformat_minor": 0
}
