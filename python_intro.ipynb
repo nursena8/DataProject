{
  "nbformat": 4,
  "nbformat_minor": 0,
  "metadata": {
    "colab": {
<<<<<<< HEAD
      "provenance": []
=======
      "provenance": [],
      "authorship_tag": "ABX9TyOYDiDQhlfEklalwdsjnO/h",
      "include_colab_link": true
>>>>>>> c6f89b5232ab229dfa4e405b64b0a3365cac0a27
    },
    "kernelspec": {
      "name": "python3",
      "display_name": "Python 3"
    },
    "language_info": {
      "name": "python"
    }
  },
  "cells": [
    {
<<<<<<< HEAD
      "cell_type": "code",
      "execution_count": null,
=======
      "cell_type": "markdown",
      "metadata": {
        "id": "view-in-github",
        "colab_type": "text"
      },
      "source": [
        "<a href=\"https://colab.research.google.com/github/nursena8/DataProject/blob/main/python_intro.ipynb\" target=\"_parent\"><img src=\"https://colab.research.google.com/assets/colab-badge.svg\" alt=\"Open In Colab\"/></a>"
      ]
    },
    {
      "cell_type": "code",
      "execution_count": 3,
>>>>>>> c6f89b5232ab229dfa4e405b64b0a3365cac0a27
      "metadata": {
        "id": "_45OcanIGkly"
      },
      "outputs": [],
      "source": [
<<<<<<< HEAD
        "\n"
=======
        "import pandas as pd\n",
        "import matplotlib.pyplot as plt\n",
        "import seaborn as sns\n",
        "from sklearn.model_selection import\n"
>>>>>>> c6f89b5232ab229dfa4e405b64b0a3365cac0a27
      ]
    },
    {
      "cell_type": "markdown",
      "source": [
        "## variables"
      ],
      "metadata": {
        "id": "OrDahwk_j1Id"
      }
    },
    {
      "cell_type": "code",
      "source": [
        "print(\"hello\")"
      ],
      "metadata": {
        "id": "T3gQO-C5GoF6",
        "colab": {
          "base_uri": "https://localhost:8080/"
        },
<<<<<<< HEAD
        "outputId": "6ed9ad95-b8ed-4061-8498-6dc5406dd8ec"
      },
      "execution_count": 2,
=======
        "outputId": "b3970ff0-ead8-4b5c-ac36-1cb5bcbdfade"
      },
      "execution_count": 4,
>>>>>>> c6f89b5232ab229dfa4e405b64b0a3365cac0a27
      "outputs": [
        {
          "output_type": "stream",
          "name": "stdout",
          "text": [
            "hello\n"
          ]
        }
      ]
    },
    {
      "cell_type": "code",
      "source": [
        "first_variable=30 #observations and varibales"
      ],
      "metadata": {
        "id": "u2ZjfvmNwQT8"
      },
<<<<<<< HEAD
      "execution_count": 3,
=======
      "execution_count": 5,
>>>>>>> c6f89b5232ab229dfa4e405b64b0a3365cac0a27
      "outputs": []
    },
    {
      "cell_type": "code",
      "source": [
        "print(type(first_variable))"
      ],
      "metadata": {
        "colab": {
          "base_uri": "https://localhost:8080/"
        },
        "id": "jADdn9TrghxX",
<<<<<<< HEAD
        "outputId": "33c4dece-8d10-457a-bb54-5cb7088cf77a"
      },
      "execution_count": 4,
=======
        "outputId": "8421e3ef-ca4e-4758-a2eb-e9d6ec03f498"
      },
      "execution_count": 6,
>>>>>>> c6f89b5232ab229dfa4e405b64b0a3365cac0a27
      "outputs": [
        {
          "output_type": "stream",
          "name": "stdout",
          "text": [
            "<class 'int'>\n"
          ]
        }
      ]
    },
    {
      "cell_type": "code",
      "source": [
        "first_string=\"Ada lovelace Akademi\""
      ],
      "metadata": {
        "id": "VkbtaPHpgh_g"
      },
<<<<<<< HEAD
      "execution_count": 5,
=======
      "execution_count": 8,
>>>>>>> c6f89b5232ab229dfa4e405b64b0a3365cac0a27
      "outputs": []
    },
    {
      "cell_type": "markdown",
      "source": [
        "## Counter"
      ],
      "metadata": {
        "id": "x1OkdTo9j-uy"
      }
    },
    {
      "cell_type": "code",
      "source": [
        "import collections\n",
        "first_variable=collections.Counter([1,1,22,3,4,5,5])\n",
        "print(first_variable)"
      ],
      "metadata": {
        "colab": {
          "base_uri": "https://localhost:8080/"
        },
        "id": "_0iU4ev6ixWu",
<<<<<<< HEAD
        "outputId": "dab443e6-b835-4835-a888-c9b06ecc1003"
      },
      "execution_count": 6,
=======
        "outputId": "5f4ced69-23c6-423d-e2ab-c9b33b66c8ac"
      },
      "execution_count": 12,
>>>>>>> c6f89b5232ab229dfa4e405b64b0a3365cac0a27
      "outputs": [
        {
          "output_type": "stream",
          "name": "stdout",
          "text": [
            "Counter({1: 2, 5: 2, 22: 1, 3: 1, 4: 1})\n"
          ]
        }
      ]
    },
    {
      "cell_type": "markdown",
      "source": [
        "## Constans"
      ],
      "metadata": {
        "id": "lhae0eRVkLHe"
      }
    },
    {
      "cell_type": "code",
      "source": [
        "MY_CONSTANT=15 ## Gloabal deiskenler"
      ],
      "metadata": {
        "id": "OQAPoC7Dixh1"
      },
<<<<<<< HEAD
      "execution_count": 7,
=======
      "execution_count": null,
>>>>>>> c6f89b5232ab229dfa4e405b64b0a3365cac0a27
      "outputs": []
    },
    {
      "cell_type": "markdown",
      "source": [
        "## FunctionS"
      ],
      "metadata": {
        "id": "ZdpAQ3YFk_1V"
      }
    },
    {
      "cell_type": "code",
      "source": [
        "def adding_numbers(number_1,number_2):\n",
        "    total = (number_1+number_2)\n",
        "    #return total"
      ],
      "metadata": {
        "id": "aW42ac0rixv5"
      },
<<<<<<< HEAD
      "execution_count": 8,
=======
      "execution_count": 18,
>>>>>>> c6f89b5232ab229dfa4e405b64b0a3365cac0a27
      "outputs": []
    },
    {
      "cell_type": "code",
      "source": [
        "adding_numbers(8, 18)"
      ],
      "metadata": {
        "id": "a3vdNvcBix8Z"
      },
<<<<<<< HEAD
      "execution_count": 9,
=======
      "execution_count": 19,
>>>>>>> c6f89b5232ab229dfa4e405b64b0a3365cac0a27
      "outputs": []
    },
    {
      "cell_type": "code",
      "source": [
        "if adding_numbers(8, 18) is None:\n",
        "  print(\"None fonkisyon geldi\")"
      ],
      "metadata": {
        "colab": {
          "base_uri": "https://localhost:8080/"
        },
        "id": "ljYlgnkFmINJ",
<<<<<<< HEAD
        "outputId": "d570b3c5-dc97-40a9-f8f1-c5f32fcd82d5"
      },
      "execution_count": 10,
=======
        "outputId": "9c924ae7-91ba-41d3-afd7-f6823081b6d8"
      },
      "execution_count": 21,
>>>>>>> c6f89b5232ab229dfa4e405b64b0a3365cac0a27
      "outputs": [
        {
          "output_type": "stream",
          "name": "stdout",
          "text": [
            "None fonkisyon geldi\n"
          ]
        }
      ]
    },
    {
      "cell_type": "code",
      "source": [
<<<<<<< HEAD
        "def adding_numbers(number_1,number_2):\n",
        "    total = (number_1+number_2)\n",
        "    print(total)"
      ],
      "metadata": {
        "id": "10w6E3gHqIzJ"
      },
      "execution_count": 11,
      "outputs": []
    },
    {
      "cell_type": "code",
      "source": [
=======
>>>>>>> c6f89b5232ab229dfa4e405b64b0a3365cac0a27
        "import math\n",
        "math.pow(2,4)"
      ],
      "metadata": {
<<<<<<< HEAD
        "id": "0M4SG48PvHKN",
        "colab": {
          "base_uri": "https://localhost:8080/"
        },
        "outputId": "6989d65b-fda1-47c8-ebfe-de92b13852cd"
      },
      "execution_count": 12,
      "outputs": [
        {
          "output_type": "execute_result",
          "data": {
            "text/plain": [
              "16.0"
            ]
          },
          "metadata": {},
          "execution_count": 12
        }
      ]
=======
        "id": "0M4SG48PvHKN"
      },
      "execution_count": null,
      "outputs": []
>>>>>>> c6f89b5232ab229dfa4e405b64b0a3365cac0a27
    },
    {
      "cell_type": "code",
      "source": [
        "example_string= \"comment\""
      ],
      "metadata": {
        "id": "QckvK5a9vG88"
      },
<<<<<<< HEAD
      "execution_count": 13,
=======
      "execution_count": 23,
>>>>>>> c6f89b5232ab229dfa4e405b64b0a3365cac0a27
      "outputs": []
    },
    {
      "cell_type": "code",
      "source": [],
      "metadata": {
        "id": "eRzOojlUvGte"
      },
<<<<<<< HEAD
      "execution_count": 13,
=======
      "execution_count": null,
>>>>>>> c6f89b5232ab229dfa4e405b64b0a3365cac0a27
      "outputs": []
    },
    {
      "cell_type": "code",
      "source": [],
      "metadata": {
        "id": "p2TLdcKhvGdH"
      },
      "execution_count": null,
      "outputs": []
    },
    {
      "cell_type": "code",
      "source": [
        "str.upper(first_string)"
      ],
      "metadata": {
        "colab": {
          "base_uri": "https://localhost:8080/",
          "height": 37
        },
        "id": "xQIoD6UNuovy",
        "outputId": "d846aa09-751e-4879-8c79-ab5c896a9ab3"
      },
<<<<<<< HEAD
      "execution_count": null,
=======
      "execution_count": 22,
>>>>>>> c6f89b5232ab229dfa4e405b64b0a3365cac0a27
      "outputs": [
        {
          "output_type": "execute_result",
          "data": {
            "text/plain": [
              "'ADA LOVELACE AKADEMI'"
            ],
            "application/vnd.google.colaboratory.intrinsic+json": {
              "type": "string"
            }
          },
          "metadata": {},
          "execution_count": 22
        }
      ]
    },
    {
      "cell_type": "markdown",
      "source": [
        "## Docstring"
      ],
      "metadata": {
        "id": "z6AQIai2wzZ1"
      }
    },
    {
      "cell_type": "code",
      "source": [
        "def my_pow(number_1,number_2):\n",
        "  \"\"\"Raise a number to a arbitrary power.\n",
        "  :param number_1 : int base number\n",
        "  :param number_2 : int power to raise\n",
        "  :return: in -number raised to power of second number\n",
        "\n",
        "  \"\"\"\n",
        "  result= number_1 ** number_2\n",
        "  return result"
      ],
      "metadata": {
        "id": "Y31E10temH9_"
      },
<<<<<<< HEAD
      "execution_count": null,
=======
      "execution_count": 24,
>>>>>>> c6f89b5232ab229dfa4e405b64b0a3365cac0a27
      "outputs": []
    },
    {
      "cell_type": "code",
      "source": [
        "print(my_pow.__doc__)"
      ],
      "metadata": {
        "colab": {
          "base_uri": "https://localhost:8080/"
        },
        "id": "jxB-AWNbmHus",
        "outputId": "a4f331cb-8fcf-4d08-c607-c3290f78270d"
      },
<<<<<<< HEAD
      "execution_count": null,
=======
      "execution_count": 25,
>>>>>>> c6f89b5232ab229dfa4e405b64b0a3365cac0a27
      "outputs": [
        {
          "output_type": "stream",
          "name": "stdout",
          "text": [
            "Raise a number to a arbitrary power.\n",
            "  :param number_1 : int base number\n",
            "  :param number_2 : int power to raise\n",
            "  :return: in -number raised to power of second number\n",
            "\n",
            "  \n"
          ]
        }
      ]
    },
    {
      "cell_type": "code",
<<<<<<< HEAD
      "source": [
        "print(str.__doc__)"
      ],
      "metadata": {
        "colab": {
          "base_uri": "https://localhost:8080/"
        },
        "id": "u4Uy0aCSiyQA",
        "outputId": "76f5d4e3-8619-4953-dd2e-d8b33e8c8766"
      },
      "execution_count": null,
      "outputs": [
        {
          "output_type": "stream",
          "name": "stdout",
          "text": [
            "str(object='') -> str\n",
            "str(bytes_or_buffer[, encoding[, errors]]) -> str\n",
            "\n",
            "Create a new string object from the given object. If encoding or\n",
            "errors is specified, then the object must expose a data buffer\n",
            "that will be decoded using the given encoding and error handler.\n",
            "Otherwise, returns the result of object.__str__() (if defined)\n",
            "or repr(object).\n",
            "encoding defaults to sys.getdefaultencoding().\n",
            "errors defaults to 'strict'.\n"
          ]
        }
      ]
=======
      "source": [],
      "metadata": {
        "id": "XYMCMPDymHh5"
      },
      "execution_count": null,
      "outputs": []
>>>>>>> c6f89b5232ab229dfa4e405b64b0a3365cac0a27
    },
    {
      "cell_type": "code",
      "source": [],
      "metadata": {
<<<<<<< HEAD
        "id": "E6Vxp4lizbFF"
=======
        "id": "8w_Si5YAmHTu"
      },
      "execution_count": null,
      "outputs": []
    },
    {
      "cell_type": "code",
      "source": [],
      "metadata": {
        "id": "QxGtdxwlmHIy"
      },
      "execution_count": null,
      "outputs": []
    },
    {
      "cell_type": "code",
      "source": [],
      "metadata": {
        "id": "L3fDqoOjiyGM"
      },
      "execution_count": null,
      "outputs": []
    },
    {
      "cell_type": "code",
      "source": [],
      "metadata": {
        "id": "u4Uy0aCSiyQA"
>>>>>>> c6f89b5232ab229dfa4e405b64b0a3365cac0a27
      },
      "execution_count": null,
      "outputs": []
    }
  ]
}