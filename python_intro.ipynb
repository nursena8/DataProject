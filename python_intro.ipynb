{
  "nbformat": 4,
  "nbformat_minor": 0,
  "metadata": {
    "colab": {
      "provenance": [],
      "authorship_tag": "ABX9TyOYDiDQhlfEklalwdsjnO/h",
      "include_colab_link": true
    },
    "kernelspec": {
      "name": "python3",
      "display_name": "Python 3"
    },
    "language_info": {
      "name": "python"
    }
  },
  "cells": [
    {
      "cell_type": "markdown",
      "metadata": {
        "id": "view-in-github",
        "colab_type": "text"
      },
      "source": [
        "<a href=\"https://colab.research.google.com/github/nursena8/DataProject/blob/main/python_intro.ipynb\" target=\"_parent\"><img src=\"https://colab.research.google.com/assets/colab-badge.svg\" alt=\"Open In Colab\"/></a>"
      ]
    },
    {
      "cell_type": "code",
      "execution_count": 3,
      "metadata": {
        "id": "_45OcanIGkly"
      },
      "outputs": [],
      "source": [
        "import pandas as pd\n",
        "import matplotlib.pyplot as plt\n",
        "import seaborn as sns\n",
        "from sklearn.model_selection import\n"
      ]
    },
    {
      "cell_type": "markdown",
      "source": [
        "## variables"
      ],
      "metadata": {
        "id": "OrDahwk_j1Id"
      }
    },
    {
      "cell_type": "code",
      "source": [
        "print(\"hello\")"
      ],
      "metadata": {
        "id": "T3gQO-C5GoF6",
        "colab": {
          "base_uri": "https://localhost:8080/"
        },
        "outputId": "b3970ff0-ead8-4b5c-ac36-1cb5bcbdfade"
      },
      "execution_count": 4,
      "outputs": [
        {
          "output_type": "stream",
          "name": "stdout",
          "text": [
            "hello\n"
          ]
        }
      ]
    },
    {
      "cell_type": "code",
      "source": [
        "first_variable=30 #observations and varibales"
      ],
      "metadata": {
        "id": "u2ZjfvmNwQT8"
      },
      "execution_count": 5,
      "outputs": []
    },
    {
      "cell_type": "code",
      "source": [
        "print(type(first_variable))"
      ],
      "metadata": {
        "colab": {
          "base_uri": "https://localhost:8080/"
        },
        "id": "jADdn9TrghxX",
        "outputId": "8421e3ef-ca4e-4758-a2eb-e9d6ec03f498"
      },
      "execution_count": 6,
      "outputs": [
        {
          "output_type": "stream",
          "name": "stdout",
          "text": [
            "<class 'int'>\n"
          ]
        }
      ]
    },
    {
      "cell_type": "code",
      "source": [
        "first_string=\"Ada lovelace Akademi\""
      ],
      "metadata": {
        "id": "VkbtaPHpgh_g"
      },
      "execution_count": 8,
      "outputs": []
    },
    {
      "cell_type": "markdown",
      "source": [
        "## Counter"
      ],
      "metadata": {
        "id": "x1OkdTo9j-uy"
      }
    },
    {
      "cell_type": "code",
      "source": [
        "import collections\n",
        "first_variable=collections.Counter([1,1,22,3,4,5,5])\n",
        "print(first_variable)"
      ],
      "metadata": {
        "colab": {
          "base_uri": "https://localhost:8080/"
        },
        "id": "_0iU4ev6ixWu",
        "outputId": "5f4ced69-23c6-423d-e2ab-c9b33b66c8ac"
      },
      "execution_count": 12,
      "outputs": [
        {
          "output_type": "stream",
          "name": "stdout",
          "text": [
            "Counter({1: 2, 5: 2, 22: 1, 3: 1, 4: 1})\n"
          ]
        }
      ]
    },
    {
      "cell_type": "markdown",
      "source": [
        "## Constans"
      ],
      "metadata": {
        "id": "lhae0eRVkLHe"
      }
    },
    {
      "cell_type": "code",
      "source": [
        "MY_CONSTANT=15 ## Gloabal deiskenler"
      ],
      "metadata": {
        "id": "OQAPoC7Dixh1"
      },
      "execution_count": null,
      "outputs": []
    },
    {
      "cell_type": "markdown",
      "source": [
        "## FunctionS"
      ],
      "metadata": {
        "id": "ZdpAQ3YFk_1V"
      }
    },
    {
      "cell_type": "code",
      "source": [
        "def adding_numbers(number_1,number_2):\n",
        "    total = (number_1+number_2)\n",
        "    #return total"
      ],
      "metadata": {
        "id": "aW42ac0rixv5"
      },
      "execution_count": 18,
      "outputs": []
    },
    {
      "cell_type": "code",
      "source": [
        "adding_numbers(8, 18)"
      ],
      "metadata": {
        "id": "a3vdNvcBix8Z"
      },
      "execution_count": 19,
      "outputs": []
    },
    {
      "cell_type": "code",
      "source": [
        "if adding_numbers(8, 18) is None:\n",
        "  print(\"None fonkisyon geldi\")"
      ],
      "metadata": {
        "colab": {
          "base_uri": "https://localhost:8080/"
        },
        "id": "ljYlgnkFmINJ",
        "outputId": "9c924ae7-91ba-41d3-afd7-f6823081b6d8"
      },
      "execution_count": 21,
      "outputs": [
        {
          "output_type": "stream",
          "name": "stdout",
          "text": [
            "None fonkisyon geldi\n"
          ]
        }
      ]
    },
    {
      "cell_type": "code",
      "source": [
        "import math\n",
        "math.pow(2,4)"
      ],
      "metadata": {
        "id": "0M4SG48PvHKN"
      },
      "execution_count": null,
      "outputs": []
    },
    {
      "cell_type": "code",
      "source": [
        "example_string= \"comment\""
      ],
      "metadata": {
        "id": "QckvK5a9vG88"
      },
      "execution_count": 23,
      "outputs": []
    },
    {
      "cell_type": "code",
      "source": [],
      "metadata": {
        "id": "eRzOojlUvGte"
      },
      "execution_count": null,
      "outputs": []
    },
    {
      "cell_type": "code",
      "source": [],
      "metadata": {
        "id": "p2TLdcKhvGdH"
      },
      "execution_count": null,
      "outputs": []
    },
    {
      "cell_type": "code",
      "source": [
        "str.upper(first_string)"
      ],
      "metadata": {
        "colab": {
          "base_uri": "https://localhost:8080/",
          "height": 37
        },
        "id": "xQIoD6UNuovy",
        "outputId": "d846aa09-751e-4879-8c79-ab5c896a9ab3"
      },
      "execution_count": 22,
      "outputs": [
        {
          "output_type": "execute_result",
          "data": {
            "text/plain": [
              "'ADA LOVELACE AKADEMI'"
            ],
            "application/vnd.google.colaboratory.intrinsic+json": {
              "type": "string"
            }
          },
          "metadata": {},
          "execution_count": 22
        }
      ]
    },
    {
      "cell_type": "markdown",
      "source": [
        "## Docstring"
      ],
      "metadata": {
        "id": "z6AQIai2wzZ1"
      }
    },
    {
      "cell_type": "code",
      "source": [
        "def my_pow(number_1,number_2):\n",
        "  \"\"\"Raise a number to a arbitrary power.\n",
        "  :param number_1 : int base number\n",
        "  :param number_2 : int power to raise\n",
        "  :return: in -number raised to power of second number\n",
        "\n",
        "  \"\"\"\n",
        "  result= number_1 ** number_2\n",
        "  return result"
      ],
      "metadata": {
        "id": "Y31E10temH9_"
      },
      "execution_count": 24,
      "outputs": []
    },
    {
      "cell_type": "code",
      "source": [
        "print(my_pow.__doc__)"
      ],
      "metadata": {
        "colab": {
          "base_uri": "https://localhost:8080/"
        },
        "id": "jxB-AWNbmHus",
        "outputId": "a4f331cb-8fcf-4d08-c607-c3290f78270d"
      },
      "execution_count": 25,
      "outputs": [
        {
          "output_type": "stream",
          "name": "stdout",
          "text": [
            "Raise a number to a arbitrary power.\n",
            "  :param number_1 : int base number\n",
            "  :param number_2 : int power to raise\n",
            "  :return: in -number raised to power of second number\n",
            "\n",
            "  \n"
          ]
        }
      ]
    },
    {
      "cell_type": "code",
      "source": [],
      "metadata": {
        "id": "XYMCMPDymHh5"
      },
      "execution_count": null,
      "outputs": []
    },
    {
      "cell_type": "code",
      "source": [],
      "metadata": {
        "id": "8w_Si5YAmHTu"
      },
      "execution_count": null,
      "outputs": []
    },
    {
      "cell_type": "code",
      "source": [],
      "metadata": {
        "id": "QxGtdxwlmHIy"
      },
      "execution_count": null,
      "outputs": []
    },
    {
      "cell_type": "code",
      "source": [],
      "metadata": {
        "id": "L3fDqoOjiyGM"
      },
      "execution_count": null,
      "outputs": []
    },
    {
      "cell_type": "code",
      "source": [],
      "metadata": {
        "id": "u4Uy0aCSiyQA"
      },
      "execution_count": null,
      "outputs": []
    }
  ]
}