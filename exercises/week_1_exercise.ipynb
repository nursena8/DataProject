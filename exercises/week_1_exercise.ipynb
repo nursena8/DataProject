{
  "cells": [
    {
      "cell_type": "markdown",
      "metadata": {
        "id": "ktiB61co0DKQ"
      },
      "source": [
        "## Week 1"
      ]
    },
    {
      "cell_type": "markdown",
      "metadata": {
        "id": "ymDAYjfR0DKT"
      },
      "source": [
        "### Exercise 1:\n",
        "Write a function that receives a list as parameter and return how many elements it has; if it doesn't have any element return an error."
      ]
    },
    {
      "cell_type": "markdown",
      "metadata": {
        "id": "AV6B59kp0DKU"
      },
      "source": [
        "#### Solution 1:"
      ]
    },
    {
      "cell_type": "code",
      "execution_count": null,
      "metadata": {
        "id": "SUH3MTMA0DKU"
      },
      "outputs": [],
      "source": [
        "def element_counts(my_list):\n",
        "  if not my_list:\n",
        "    raise ValueError(\"The list is empty\")\n",
        "  else:\n",
        "    number_of_element=len(my_list)\n",
        "    return number_of_element\n",
        "\n",
        "my_list=[1,2,3,4,5,\"element\"]"
      ]
    },
    {
      "cell_type": "code",
      "source": [
        "element_counts(my_list)"
      ],
      "metadata": {
        "colab": {
          "base_uri": "https://localhost:8080/"
        },
        "id": "8SNXDa3G0NVe",
        "outputId": "14b5aadd-d329-41d6-9d05-2a17e4b8331a"
      },
      "execution_count": null,
      "outputs": [
        {
          "output_type": "execute_result",
          "data": {
            "text/plain": [
              "6"
            ]
          },
          "metadata": {},
          "execution_count": 12
        }
      ]
    },
    {
      "cell_type": "markdown",
      "source": [
        "### Solution 2:"
      ],
      "metadata": {
        "id": "0tsjJ8lT0OR3"
      }
    },
    {
      "cell_type": "code",
      "source": [
        "def element_counts(my_list):\n",
        "    try:\n",
        "        if len(my_list) == 0:\n",
        "            raise ValueError(\"The list is empty\")\n",
        "        else:\n",
        "            return len(my_list)\n",
        "    except ValueError as e:\n",
        "        print(e)\n",
        "\n",
        "my_list = []\n",
        "element_counts(my_list)\n",
        "\n"
      ],
      "metadata": {
        "colab": {
          "base_uri": "https://localhost:8080/"
        },
        "id": "tZxtIgum0NKX",
        "outputId": "35ed1f0f-7604-4274-dba7-1f999a86060d"
      },
      "execution_count": 4,
      "outputs": [
        {
          "output_type": "stream",
          "name": "stdout",
          "text": [
            "The list is empty\n"
          ]
        }
      ]
    },
    {
      "cell_type": "code",
      "source": [],
      "metadata": {
        "id": "PBBF6UzdZdJs"
      },
      "execution_count": null,
      "outputs": []
    },
    {
      "cell_type": "markdown",
      "metadata": {
        "id": "xrOoJwzI0DKX"
      },
      "source": [
        "### Exercise 2:\n",
        "Write a function that receives a string as parameter and return the number of each character in it."
      ]
    },
    {
      "cell_type": "code",
      "execution_count": 25,
      "metadata": {
        "id": "5dtCqF9A0DKX"
      },
      "outputs": [],
      "source": [
        "def count_strings(my_string):\n",
        "  string_list=[]\n",
        "  for item in my_string:\n",
        "    string_list.append(item)\n",
        "\n",
        "  import collections\n",
        "  count_characters=collections.Counter(string_list)\n",
        "  return count_characters"
      ]
    },
    {
      "cell_type": "code",
      "source": [
        "my_string=\"Hello World\"\n",
        "count_strings(my_string)"
      ],
      "metadata": {
        "colab": {
          "base_uri": "https://localhost:8080/"
        },
        "id": "Arx4WFqvap3S",
        "outputId": "18e530b7-fc16-4f0c-e7bc-49b4d2383456"
      },
      "execution_count": 26,
      "outputs": [
        {
          "output_type": "execute_result",
          "data": {
            "text/plain": [
              "Counter({'H': 1, 'e': 1, 'l': 3, 'o': 2, ' ': 1, 'W': 1, 'r': 1, 'd': 1})"
            ]
          },
          "metadata": {},
          "execution_count": 26
        }
      ]
    },
    {
      "cell_type": "markdown",
      "source": [
        "### Solution 2:\n",
        "#### Without empty character"
      ],
      "metadata": {
        "id": "nXpYpyNXaw0-"
      }
    },
    {
      "cell_type": "code",
      "source": [
        "def count_strings(my_string):\n",
        "  string_list=[]\n",
        "  for item in my_string:\n",
        "    if item != \" \":\n",
        "      string_list.append(item)\n",
        "  import collections\n",
        "  count_characters=collections.Counter(string_list)\n",
        "  print(count_characters)"
      ],
      "metadata": {
        "id": "mBYfAtFVZHTk"
      },
      "execution_count": 28,
      "outputs": []
    },
    {
      "cell_type": "code",
      "source": [
        "my_string=\"Hello World\"\n",
        "count_strings(my_string)"
      ],
      "metadata": {
        "colab": {
          "base_uri": "https://localhost:8080/"
        },
        "id": "P5DTe72ZbQr4",
        "outputId": "2470366e-1e2c-464d-c706-16823da68306"
      },
      "execution_count": 29,
      "outputs": [
        {
          "output_type": "stream",
          "name": "stdout",
          "text": [
            "Counter({'l': 3, 'o': 2, 'H': 1, 'e': 1, 'W': 1, 'r': 1, 'd': 1})\n"
          ]
        }
      ]
    },
    {
      "cell_type": "code",
      "source": [],
      "metadata": {
        "id": "owPbZZFUg7tx"
      },
      "execution_count": null,
      "outputs": []
    }
  ],
  "metadata": {
    "kernelspec": {
      "display_name": "Python 3",
      "language": "python",
      "name": "python3"
    },
    "language_info": {
      "codemirror_mode": {
        "name": "ipython",
        "version": 3
      },
      "file_extension": ".py",
      "mimetype": "text/x-python",
      "name": "python",
      "nbconvert_exporter": "python",
      "pygments_lexer": "ipython3",
      "version": "3.10.13"
    },
    "colab": {
      "provenance": []
    }
  },
  "nbformat": 4,
  "nbformat_minor": 0
}