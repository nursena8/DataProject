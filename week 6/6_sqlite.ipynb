{
  "nbformat": 4,
  "nbformat_minor": 0,
  "metadata": {
    "colab": {
      "provenance": []
    },
    "kernelspec": {
      "name": "python3",
      "display_name": "Python 3"
    },
    "language_info": {
      "name": "python"
    }
  },
  "cells": [
    {
      "cell_type": "code",
      "execution_count": 15,
      "metadata": {
        "id": "Xyn-UaaVpY6k"
      },
      "outputs": [],
      "source": [
        "# sqlite\n",
        "# creating list for inserting to db"
      ]
    },
    {
      "cell_type": "code",
      "source": [
        "import random"
      ],
      "metadata": {
        "id": "7cF7d2wyqhkK"
      },
      "execution_count": 1,
      "outputs": []
    },
    {
      "cell_type": "code",
      "source": [
        "def rand_int():\n",
        "  return random.randint(1,100)"
      ],
      "metadata": {
        "id": "2T7mggjqqhgp"
      },
      "execution_count": 2,
      "outputs": []
    },
    {
      "cell_type": "code",
      "source": [
        "my_list=[\n",
        "    (rand_int(),\"apple\",\"red\"),\n",
        "    (rand_int(),\"cherry\",\"red\"),\n",
        "    (rand_int(),\"date\",\"brown\"),\n",
        "    (rand_int(),\"grape\",\"purple\"),\n",
        "    (rand_int(),\"kiwi\",\"brown\"),\n",
        "    (rand_int(),\"lemon\",\"yellow\"),\n",
        "    (rand_int(),\"orange\",\"orange\"),\n",
        "    (rand_int(),\"pear\",\"green\"),\n",
        "    (rand_int(),\"watermelon\",\"green\"),\n",
        "    (rand_int(),\"banana\", \"yellow\")\n",
        "\n",
        "]"
      ],
      "metadata": {
        "id": "xf0f8kN6qhct"
      },
      "execution_count": 3,
      "outputs": []
    },
    {
      "cell_type": "code",
      "source": [
        "my_list"
      ],
      "metadata": {
        "colab": {
          "base_uri": "https://localhost:8080/"
        },
        "id": "TpVACeb1qhZK",
        "outputId": "180bb80a-b967-4a36-c6d5-704e09a56969"
      },
      "execution_count": 4,
      "outputs": [
        {
          "output_type": "execute_result",
          "data": {
            "text/plain": [
              "[(2, 'apple', 'red'),\n",
              " (40, 'cherry', 'red'),\n",
              " (30, 'date', 'brown'),\n",
              " (43, 'grape', 'purple'),\n",
              " (84, 'kiwi', 'brown'),\n",
              " (71, 'lemon', 'yellow'),\n",
              " (99, 'orange', 'orange'),\n",
              " (55, 'pear', 'green'),\n",
              " (56, 'watermelon', 'green'),\n",
              " (31, 'banana', 'yellow')]"
            ]
          },
          "metadata": {},
          "execution_count": 4
        }
      ]
    },
    {
      "cell_type": "code",
      "source": [
        "import sqlite3\n",
        "connection = sqlite3.connect(\"fruits.db\")\n",
        "\n",
        "cursor= connection.cursor()\n",
        "cursor.execute(\"CREATE TABLE fruits (amount interger,fruit text,color text)\")\n",
        "cursor.executemany(\"INSERT INTO fruits VALUES (?,?,?)\",my_list)\n",
        "connection.close()"
      ],
      "metadata": {
        "id": "7mdMGemxqhVf"
      },
      "execution_count": 53,
      "outputs": []
    },
    {
      "cell_type": "code",
      "source": [
        "import sqlite3\n",
        "connection = sqlite3.connect(\"fruits.db\")\n",
        "cursor=connection.cursor()\n",
        "cursor.execute(\"CREATE TABLE fruits (amount interger,fruit text ,color text)\")\n",
        "cursor.executemany(\"INSERT INTO fruits VALUES (?,?,?)\",my_list)\n",
        "for row in cursor.execute(\"SELECT * FROM  fruits\"):\n",
        "  print(row)"
      ],
      "metadata": {
        "colab": {
          "base_uri": "https://localhost:8080/"
        },
        "id": "_PSnpQeeqhRn",
        "outputId": "2849b2e4-53f0-4493-a196-f24b9c9b0d24"
      },
      "execution_count": 9,
      "outputs": [
        {
          "output_type": "stream",
          "name": "stdout",
          "text": [
            "(2, 'apple', 'red')\n",
            "(40, 'cherry', 'red')\n",
            "(30, 'date', 'brown')\n",
            "(43, 'grape', 'purple')\n",
            "(84, 'kiwi', 'brown')\n",
            "(71, 'lemon', 'yellow')\n",
            "(99, 'orange', 'orange')\n",
            "(55, 'pear', 'green')\n",
            "(56, 'watermelon', 'green')\n",
            "(31, 'banana', 'yellow')\n"
          ]
        }
      ]
    },
    {
      "cell_type": "code",
      "source": [
        "cursor.execute(\"SELECT * FROM fruits WHERE color=:c\", {\"c\":\"green\"})\n",
        "color_search=cursor.fetchall()\n",
        "print(color_search)"
      ],
      "metadata": {
        "colab": {
          "base_uri": "https://localhost:8080/"
        },
        "id": "57s2-_PTqhNb",
        "outputId": "07c56b3b-3191-4206-c187-5d7d788e30aa"
      },
      "execution_count": 10,
      "outputs": [
        {
          "output_type": "stream",
          "name": "stdout",
          "text": [
            "[(55, 'pear', 'green'), (56, 'watermelon', 'green')]\n"
          ]
        }
      ]
    },
    {
      "cell_type": "code",
      "source": [
        "cursor.execute(\"CREATE TABLE translates (en_color text ,tr_color text)\")\n",
        "cursor.execute(\"INSERT INTO translates VALUES(?,?)\",(\"green\",\"yeşil\"))\n",
        "cursor.execute(\"SELECT *FROM translates WHERE en_color=:c\",{\"c\":\"green\"})\n",
        "cursor.fetchall()\n"
      ],
      "metadata": {
        "colab": {
          "base_uri": "https://localhost:8080/"
        },
        "id": "98fn8jgoqhIJ",
        "outputId": "71b7863b-42a7-4ccb-ef47-4c6160527486"
      },
      "execution_count": 11,
      "outputs": [
        {
          "output_type": "execute_result",
          "data": {
            "text/plain": [
              "[('green', 'yeşil')]"
            ]
          },
          "metadata": {},
          "execution_count": 11
        }
      ]
    },
    {
      "cell_type": "code",
      "source": [
        "for data in color_search:\n",
        "  gs=[cursor.execute(\"SELECT *FROM translates WHERE en_color=:c\",{\"c\":\"green\"})[0][1] if value == color_search[0][0] else value for value in data\n",
        "]"
      ],
      "metadata": {
        "id": "owD7QeW0qhDv"
      },
      "execution_count": null,
      "outputs": []
    },
    {
      "cell_type": "code",
      "source": [
        "cursor.execute(\"INSERT INTO translates VALUES (?,?)\",(\"yellow\",\"sari\"))\n",
        "cursor.execute(\"INSERT INTO translates VALUES (?,?)\",(\"brown\",\"kahverengi\"))\n",
        "cursor.execute(\"INSERT INTO translates VALUES (?,?)\",(\"red\",\"kirmizi\"))\n",
        "cursor.execute(\"INSERT INTO translates VALUES (?,?)\",(\"orange\",\"orange\"))\n",
        "cursor.execute(\"INSERT INTO translates VALUES(?,?)\",(\"purple\",\"mor\"))\n",
        "cursor.execute(\"SELECT en_color ,tr_color,fruit FROM translates INNER JOIN fruits ON en_color=:c\",{\"c\":\"yellow\"})\n",
        "cursor.fetchall()"
      ],
      "metadata": {
        "colab": {
          "base_uri": "https://localhost:8080/"
        },
        "id": "SyyCFyJGHJnz",
        "outputId": "177ce4a3-4a84-4a0b-a1bc-d6697a8a0489"
      },
      "execution_count": 25,
      "outputs": [
        {
          "output_type": "execute_result",
          "data": {
            "text/plain": [
              "[('yellow', 'sari', 'apple'),\n",
              " ('yellow', 'sari', 'apple'),\n",
              " ('yellow', 'sari', 'apple'),\n",
              " ('yellow', 'sari', 'apple'),\n",
              " ('yellow', 'sari', 'apple'),\n",
              " ('yellow', 'sari', 'apple'),\n",
              " ('yellow', 'sari', 'apple'),\n",
              " ('yellow', 'sari', 'apple'),\n",
              " ('yellow', 'sari', 'apple'),\n",
              " ('yellow', 'sari', 'apple'),\n",
              " ('yellow', 'sari', 'apple'),\n",
              " ('yellow', 'sari', 'apple'),\n",
              " ('yellow', 'sari', 'apple'),\n",
              " ('yellow', 'sari', 'cherry'),\n",
              " ('yellow', 'sari', 'cherry'),\n",
              " ('yellow', 'sari', 'cherry'),\n",
              " ('yellow', 'sari', 'cherry'),\n",
              " ('yellow', 'sari', 'cherry'),\n",
              " ('yellow', 'sari', 'cherry'),\n",
              " ('yellow', 'sari', 'cherry'),\n",
              " ('yellow', 'sari', 'cherry'),\n",
              " ('yellow', 'sari', 'cherry'),\n",
              " ('yellow', 'sari', 'cherry'),\n",
              " ('yellow', 'sari', 'cherry'),\n",
              " ('yellow', 'sari', 'cherry'),\n",
              " ('yellow', 'sari', 'cherry'),\n",
              " ('yellow', 'sari', 'date'),\n",
              " ('yellow', 'sari', 'date'),\n",
              " ('yellow', 'sari', 'date'),\n",
              " ('yellow', 'sari', 'date'),\n",
              " ('yellow', 'sari', 'date'),\n",
              " ('yellow', 'sari', 'date'),\n",
              " ('yellow', 'sari', 'date'),\n",
              " ('yellow', 'sari', 'date'),\n",
              " ('yellow', 'sari', 'date'),\n",
              " ('yellow', 'sari', 'date'),\n",
              " ('yellow', 'sari', 'date'),\n",
              " ('yellow', 'sari', 'date'),\n",
              " ('yellow', 'sari', 'date'),\n",
              " ('yellow', 'sari', 'grape'),\n",
              " ('yellow', 'sari', 'grape'),\n",
              " ('yellow', 'sari', 'grape'),\n",
              " ('yellow', 'sari', 'grape'),\n",
              " ('yellow', 'sari', 'grape'),\n",
              " ('yellow', 'sari', 'grape'),\n",
              " ('yellow', 'sari', 'grape'),\n",
              " ('yellow', 'sari', 'grape'),\n",
              " ('yellow', 'sari', 'grape'),\n",
              " ('yellow', 'sari', 'grape'),\n",
              " ('yellow', 'sari', 'grape'),\n",
              " ('yellow', 'sari', 'grape'),\n",
              " ('yellow', 'sari', 'grape'),\n",
              " ('yellow', 'sari', 'kiwi'),\n",
              " ('yellow', 'sari', 'kiwi'),\n",
              " ('yellow', 'sari', 'kiwi'),\n",
              " ('yellow', 'sari', 'kiwi'),\n",
              " ('yellow', 'sari', 'kiwi'),\n",
              " ('yellow', 'sari', 'kiwi'),\n",
              " ('yellow', 'sari', 'kiwi'),\n",
              " ('yellow', 'sari', 'kiwi'),\n",
              " ('yellow', 'sari', 'kiwi'),\n",
              " ('yellow', 'sari', 'kiwi'),\n",
              " ('yellow', 'sari', 'kiwi'),\n",
              " ('yellow', 'sari', 'kiwi'),\n",
              " ('yellow', 'sari', 'kiwi'),\n",
              " ('yellow', 'sari', 'lemon'),\n",
              " ('yellow', 'sari', 'lemon'),\n",
              " ('yellow', 'sari', 'lemon'),\n",
              " ('yellow', 'sari', 'lemon'),\n",
              " ('yellow', 'sari', 'lemon'),\n",
              " ('yellow', 'sari', 'lemon'),\n",
              " ('yellow', 'sari', 'lemon'),\n",
              " ('yellow', 'sari', 'lemon'),\n",
              " ('yellow', 'sari', 'lemon'),\n",
              " ('yellow', 'sari', 'lemon'),\n",
              " ('yellow', 'sari', 'lemon'),\n",
              " ('yellow', 'sari', 'lemon'),\n",
              " ('yellow', 'sari', 'lemon'),\n",
              " ('yellow', 'sari', 'orange'),\n",
              " ('yellow', 'sari', 'orange'),\n",
              " ('yellow', 'sari', 'orange'),\n",
              " ('yellow', 'sari', 'orange'),\n",
              " ('yellow', 'sari', 'orange'),\n",
              " ('yellow', 'sari', 'orange'),\n",
              " ('yellow', 'sari', 'orange'),\n",
              " ('yellow', 'sari', 'orange'),\n",
              " ('yellow', 'sari', 'orange'),\n",
              " ('yellow', 'sari', 'orange'),\n",
              " ('yellow', 'sari', 'orange'),\n",
              " ('yellow', 'sari', 'orange'),\n",
              " ('yellow', 'sari', 'orange'),\n",
              " ('yellow', 'sari', 'pear'),\n",
              " ('yellow', 'sari', 'pear'),\n",
              " ('yellow', 'sari', 'pear'),\n",
              " ('yellow', 'sari', 'pear'),\n",
              " ('yellow', 'sari', 'pear'),\n",
              " ('yellow', 'sari', 'pear'),\n",
              " ('yellow', 'sari', 'pear'),\n",
              " ('yellow', 'sari', 'pear'),\n",
              " ('yellow', 'sari', 'pear'),\n",
              " ('yellow', 'sari', 'pear'),\n",
              " ('yellow', 'sari', 'pear'),\n",
              " ('yellow', 'sari', 'pear'),\n",
              " ('yellow', 'sari', 'pear'),\n",
              " ('yellow', 'sari', 'watermelon'),\n",
              " ('yellow', 'sari', 'watermelon'),\n",
              " ('yellow', 'sari', 'watermelon'),\n",
              " ('yellow', 'sari', 'watermelon'),\n",
              " ('yellow', 'sari', 'watermelon'),\n",
              " ('yellow', 'sari', 'watermelon'),\n",
              " ('yellow', 'sari', 'watermelon'),\n",
              " ('yellow', 'sari', 'watermelon'),\n",
              " ('yellow', 'sari', 'watermelon'),\n",
              " ('yellow', 'sari', 'watermelon'),\n",
              " ('yellow', 'sari', 'watermelon'),\n",
              " ('yellow', 'sari', 'watermelon'),\n",
              " ('yellow', 'sari', 'watermelon'),\n",
              " ('yellow', 'sari', 'banana'),\n",
              " ('yellow', 'sari', 'banana'),\n",
              " ('yellow', 'sari', 'banana'),\n",
              " ('yellow', 'sari', 'banana'),\n",
              " ('yellow', 'sari', 'banana'),\n",
              " ('yellow', 'sari', 'banana'),\n",
              " ('yellow', 'sari', 'banana'),\n",
              " ('yellow', 'sari', 'banana'),\n",
              " ('yellow', 'sari', 'banana'),\n",
              " ('yellow', 'sari', 'banana'),\n",
              " ('yellow', 'sari', 'banana'),\n",
              " ('yellow', 'sari', 'banana'),\n",
              " ('yellow', 'sari', 'banana')]"
            ]
          },
          "metadata": {},
          "execution_count": 25
        }
      ]
    },
    {
      "cell_type": "code",
      "source": [],
      "metadata": {
        "id": "RVsJsesFHeLe"
      },
      "execution_count": null,
      "outputs": []
    }
  ]
}