{
  "nbformat": 4,
  "nbformat_minor": 0,
  "metadata": {
    "colab": {
      "provenance": []
    },
    "kernelspec": {
      "name": "python3",
      "display_name": "Python 3"
    },
    "language_info": {
      "name": "python"
    }
  },
  "cells": [
    {
      "cell_type": "markdown",
      "source": [
        "# Python for Machine Learning\n",
        "\n",
        "\n",
        "1.   numpy\n",
        "2.   matplotlib\n",
        "3.   scikit-learn\n",
        "4.   scipy\n",
        "\n",
        "### scikit-learn\n",
        "\n",
        "\n",
        "*   allows the work with  numpy an scipy\n",
        "*   good docs\n",
        "*   easy to use\n",
        "preprocessing of data,feature extraction,feature selection,train test splitting defining the algorithims,fitting models,tuning parameters,evaluation,exporting the models\n",
        "\n"
      ],
      "metadata": {
        "id": "4eOWvI2-U5nW"
      }
    },
    {
      "cell_type": "code",
      "execution_count": 1,
      "metadata": {
        "id": "b7qIf8k-Uajy"
      },
      "outputs": [],
      "source": [
        "from sklearn.preprocessing import StandardScaler\n",
        "X= StandardScaler().fit(X).transform(X)"
      ]
    },
    {
      "cell_type": "code",
      "source": [
        "from sklearn.model_selection import train_test_split\n",
        "X_train,X_test,y_train,y_test=train_test_split(X,y,test_size=0.2)"
      ],
      "metadata": {
        "id": "aN-4FYnDbl8J"
      },
      "execution_count": null,
      "outputs": []
    },
    {
      "cell_type": "code",
      "source": [
        "from sklearn import svm"
      ],
      "metadata": {
        "id": "07j480Rlburu"
      },
      "execution_count": null,
      "outputs": []
    },
    {
      "cell_type": "code",
      "source": [
        "cld=svm.SVC(gamma=0.01,C=90.0)\n",
        "clf.fit(X_train,y_train)\n",
        "clf.predict(X_test)"
      ],
      "metadata": {
        "id": "oVMRq5PBbunY"
      },
      "execution_count": null,
      "outputs": []
    },
    {
      "cell_type": "code",
      "source": [
        "from sklearn.metrics import confusion_matrix\n",
        "print(confusion_matrix(y_test,labels=[1,0]))"
      ],
      "metadata": {
        "id": "3yWu9J91bui2"
      },
      "execution_count": null,
      "outputs": []
    },
    {
      "cell_type": "code",
      "source": [
        "import pickle\n",
        "s=pickle.dumps(clf)"
      ],
      "metadata": {
        "id": "UPzzFH8jbud3"
      },
      "execution_count": null,
      "outputs": []
    },
    {
      "cell_type": "markdown",
      "source": [
        "# SUPERVISED VS UNSUPERVISED"
      ],
      "metadata": {
        "id": "JDQGqSEFd0fK"
      }
    },
    {
      "cell_type": "code",
      "source": [
        "import pandas as pd\n",
        "import numpy as np\n",
        "cancer_data = pd.read_csv(\"cancer_data.csv\")\n",
        "cancer_data.sample(5)"
      ],
      "metadata": {
        "id": "iGIaZUXdbuZa"
      },
      "execution_count": null,
      "outputs": []
    },
    {
      "cell_type": "code",
      "source": [
        "cancer_data[\"diagnosis\"] = cancer_data[\"diagnosis\"].astype(\"category\")"
      ],
      "metadata": {
        "id": "E-iLIvDhbuU-"
      },
      "execution_count": null,
      "outputs": []
    },
    {
      "cell_type": "code",
      "source": [
        "cancer_data.dtypes"
      ],
      "metadata": {
        "id": "9LC8sdqEbuQt"
      },
      "execution_count": null,
      "outputs": []
    },
    {
      "cell_type": "code",
      "source": [
        "cancer_data.info()"
      ],
      "metadata": {
        "id": "uGdQwD1FeL2m"
      },
      "execution_count": null,
      "outputs": []
    },
    {
      "cell_type": "code",
      "source": [
        "cancer_data.columns[2:]"
      ],
      "metadata": {
        "id": "WbW4vS-reLwn"
      },
      "execution_count": null,
      "outputs": []
    },
    {
      "cell_type": "code",
      "source": [
        "#attributes\n",
        "# features\n",
        "#observation\n"
      ],
      "metadata": {
        "id": "gTZOdE5jeZzt"
      },
      "execution_count": null,
      "outputs": []
    },
    {
      "cell_type": "markdown",
      "source": [
        "# SUPERVİSED LEARNING TECHNIQUES\n",
        "\n",
        "\n",
        "*   Classification\n",
        "*   Regression\n",
        "\n",
        "supervised and unsupervised\n",
        "\n",
        "*   labled and unlabeled\n",
        "*    Dimension reduction,densitiy estimation,market basket analysis and Cluster\n",
        "are the most Widely used unsupervised machine learning techniques  \n",
        "\n"
      ],
      "metadata": {
        "id": "XL6snqqEenVX"
      }
    },
    {
      "cell_type": "code",
      "source": [],
      "metadata": {
        "id": "ps7XmeebbuM-"
      },
      "execution_count": null,
      "outputs": []
    }
  ]
}