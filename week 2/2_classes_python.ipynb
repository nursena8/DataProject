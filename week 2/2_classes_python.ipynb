{
  "nbformat": 4,
  "nbformat_minor": 0,
  "metadata": {
    "colab": {
      "provenance": []
    },
    "kernelspec": {
      "name": "python3",
      "display_name": "Python 3"
    },
    "language_info": {
      "name": "python"
    }
  },
  "cells": [
    {
      "cell_type": "markdown",
      "source": [
        "# classes\n",
        "\n"
      ],
      "metadata": {
        "id": "2mP6C5U0bpK9"
      }
    },
    {
      "cell_type": "code",
      "execution_count": 1,
      "metadata": {
        "id": "1TGyQs0tIW1y"
      },
      "outputs": [],
      "source": [
        "def my_func():\n",
        "  pass"
      ]
    },
    {
      "cell_type": "code",
      "source": [
        "class MyClass:\n",
        "  pass"
      ],
      "metadata": {
        "id": "NFafbPlibvlc"
      },
      "execution_count": 2,
      "outputs": []
    },
    {
      "cell_type": "code",
      "source": [
        "class Animal:\n",
        "  is_alive=True\n",
        "  age=0"
      ],
      "metadata": {
        "id": "fvL3HK6SbwJ2"
      },
      "execution_count": 3,
      "outputs": []
    },
    {
      "cell_type": "code",
      "source": [
        "my_cat=Animal()"
      ],
      "metadata": {
        "id": "kUKZF011bwNJ"
      },
      "execution_count": 4,
      "outputs": []
    },
    {
      "cell_type": "code",
      "source": [
        "print(my_cat)\n",
        "print(type(my_cat))"
      ],
      "metadata": {
        "colab": {
          "base_uri": "https://localhost:8080/"
        },
        "id": "ebXdcFP0bwQV",
        "outputId": "273c519c-9200-4b23-cea2-0c6e96849a50"
      },
      "execution_count": 5,
      "outputs": [
        {
          "output_type": "stream",
          "name": "stdout",
          "text": [
            "<__main__.Animal object at 0x7f6f482e7af0>\n",
            "<class '__main__.Animal'>\n"
          ]
        }
      ]
    },
    {
      "cell_type": "code",
      "source": [
        "my_cat.is_alive"
      ],
      "metadata": {
        "colab": {
          "base_uri": "https://localhost:8080/"
        },
        "id": "YKMVCwXwbwTb",
        "outputId": "9860a1ae-4981-43f5-914a-3b49d2f7bffc"
      },
      "execution_count": 6,
      "outputs": [
        {
          "output_type": "execute_result",
          "data": {
            "text/plain": [
              "True"
            ]
          },
          "metadata": {},
          "execution_count": 6
        }
      ]
    },
    {
      "cell_type": "code",
      "source": [
        "my_cat.age"
      ],
      "metadata": {
        "colab": {
          "base_uri": "https://localhost:8080/"
        },
        "id": "671tps0ebwWl",
        "outputId": "350a7678-86f6-4d6c-b555-19ed4684abc3"
      },
      "execution_count": 7,
      "outputs": [
        {
          "output_type": "execute_result",
          "data": {
            "text/plain": [
              "0"
            ]
          },
          "metadata": {},
          "execution_count": 7
        }
      ]
    },
    {
      "cell_type": "code",
      "source": [
        "my_2_=Animal()"
      ],
      "metadata": {
        "id": "3BM7Z9ExbwaB"
      },
      "execution_count": 8,
      "outputs": []
    },
    {
      "cell_type": "code",
      "source": [
        "my_cat.age==my_2_.age"
      ],
      "metadata": {
        "colab": {
          "base_uri": "https://localhost:8080/"
        },
        "id": "UrF0VRJxcVFi",
        "outputId": "3a6c98eb-68c1-4e08-ce99-e9c506fc220a"
      },
      "execution_count": 9,
      "outputs": [
        {
          "output_type": "execute_result",
          "data": {
            "text/plain": [
              "True"
            ]
          },
          "metadata": {},
          "execution_count": 9
        }
      ]
    },
    {
      "cell_type": "code",
      "source": [
        "my_cat.age=2"
      ],
      "metadata": {
        "id": "VZBh8vdncVI5"
      },
      "execution_count": 10,
      "outputs": []
    },
    {
      "cell_type": "code",
      "source": [
        "my_cat.age==my_2_.age"
      ],
      "metadata": {
        "colab": {
          "base_uri": "https://localhost:8080/"
        },
        "id": "ukNdlNu3cVNI",
        "outputId": "65440f1b-8b6f-46aa-edc8-45bb6668a384"
      },
      "execution_count": 11,
      "outputs": [
        {
          "output_type": "execute_result",
          "data": {
            "text/plain": [
              "False"
            ]
          },
          "metadata": {},
          "execution_count": 11
        }
      ]
    },
    {
      "cell_type": "code",
      "source": [
        "Animal.is_alive=False"
      ],
      "metadata": {
        "id": "IuIbBWW2cVRV"
      },
      "execution_count": 14,
      "outputs": []
    },
    {
      "cell_type": "code",
      "source": [
        "my_cat.is_alive\n",
        "my_2_.is_alive"
      ],
      "metadata": {
        "colab": {
          "base_uri": "https://localhost:8080/"
        },
        "id": "DM5OW3-AcVVX",
        "outputId": "20a02f7c-bf3e-4de8-aa82-1c3bdf804ddd"
      },
      "execution_count": 16,
      "outputs": [
        {
          "output_type": "execute_result",
          "data": {
            "text/plain": [
              "False"
            ]
          },
          "metadata": {},
          "execution_count": 16
        }
      ]
    },
    {
      "cell_type": "code",
      "source": [
        "Animal.is_alive"
      ],
      "metadata": {
        "colab": {
          "base_uri": "https://localhost:8080/"
        },
        "id": "Av_Sl9oQcVZe",
        "outputId": "f7038845-623c-4c7e-8674-72d451475733"
      },
      "execution_count": 17,
      "outputs": [
        {
          "output_type": "execute_result",
          "data": {
            "text/plain": [
              "False"
            ]
          },
          "metadata": {},
          "execution_count": 17
        }
      ]
    },
    {
      "cell_type": "code",
      "source": [
        "class Cat:\n",
        "  is_alive=True\n",
        "  age=0\n",
        "  sound=\"meow\"\n",
        "\n",
        "  def __init__(self,location):\n",
        "    self.location=location.values()\n",
        "\n",
        "  def aged(self):\n",
        "    self.age +=1 #Cat.age +=1"
      ],
      "metadata": {
        "id": "3gP0sUlFcVeo"
      },
      "execution_count": 19,
      "outputs": []
    },
    {
      "cell_type": "code",
      "source": [
        "boncuk=Cat(location={\"loc\":\"home\"})\n",
        "boncuk.location"
      ],
      "metadata": {
        "colab": {
          "base_uri": "https://localhost:8080/"
        },
        "id": "OHoW4s8wcVlt",
        "outputId": "518eacb5-d428-4783-b52f-3169316d9bd8"
      },
      "execution_count": 21,
      "outputs": [
        {
          "output_type": "execute_result",
          "data": {
            "text/plain": [
              "dict_values(['home'])"
            ]
          },
          "metadata": {},
          "execution_count": 21
        }
      ]
    },
    {
      "cell_type": "code",
      "source": [
        "boncuk.sound"
      ],
      "metadata": {
        "colab": {
          "base_uri": "https://localhost:8080/",
          "height": 37
        },
        "id": "_16HlssUeUgN",
        "outputId": "89af8118-481f-4e12-c833-796cedebf7ed"
      },
      "execution_count": 22,
      "outputs": [
        {
          "output_type": "execute_result",
          "data": {
            "text/plain": [
              "'meow'"
            ],
            "application/vnd.google.colaboratory.intrinsic+json": {
              "type": "string"
            }
          },
          "metadata": {},
          "execution_count": 22
        }
      ]
    },
    {
      "cell_type": "code",
      "source": [
        "boncuk.aged()"
      ],
      "metadata": {
        "id": "BSi61s79eUbT"
      },
      "execution_count": 24,
      "outputs": []
    },
    {
      "cell_type": "code",
      "source": [
        "boncuk.age"
      ],
      "metadata": {
        "colab": {
          "base_uri": "https://localhost:8080/"
        },
        "id": "XTP1fnGBeUWJ",
        "outputId": "e956be8c-2e65-4d01-ba37-cc8f8800b379"
      },
      "execution_count": 25,
      "outputs": [
        {
          "output_type": "execute_result",
          "data": {
            "text/plain": [
              "1"
            ]
          },
          "metadata": {},
          "execution_count": 25
        }
      ]
    },
    {
      "cell_type": "code",
      "source": [
        "boncuk.age=5"
      ],
      "metadata": {
        "id": "K8d9wExweUQa"
      },
      "execution_count": 27,
      "outputs": []
    },
    {
      "cell_type": "code",
      "source": [
        "boncuk.aged()"
      ],
      "metadata": {
        "id": "wPUkJ32GeULC"
      },
      "execution_count": 28,
      "outputs": []
    },
    {
      "cell_type": "code",
      "source": [
        "boncuk.age"
      ],
      "metadata": {
        "colab": {
          "base_uri": "https://localhost:8080/"
        },
        "id": "EY8MGbPweUGY",
        "outputId": "ab3dc0ff-f500-45b8-ceb4-e9fc12710cef"
      },
      "execution_count": 29,
      "outputs": [
        {
          "output_type": "execute_result",
          "data": {
            "text/plain": [
              "6"
            ]
          },
          "metadata": {},
          "execution_count": 29
        }
      ]
    },
    {
      "cell_type": "code",
      "source": [
        "Cat.age"
      ],
      "metadata": {
        "colab": {
          "base_uri": "https://localhost:8080/"
        },
        "id": "P0p43zWeeUBy",
        "outputId": "5d8fac5a-aeac-4e28-9c2a-2668c7e9c8d2"
      },
      "execution_count": 30,
      "outputs": [
        {
          "output_type": "execute_result",
          "data": {
            "text/plain": [
              "0"
            ]
          },
          "metadata": {},
          "execution_count": 30
        }
      ]
    },
    {
      "cell_type": "markdown",
      "source": [
        "# packing and unpacking"
      ],
      "metadata": {
        "id": "tOB0eKRQerd2"
      }
    },
    {
      "cell_type": "code",
      "source": [
        "fruits=[\"apple\",\"banana\",\"cherry\",\"orange\",\"kiwi\",\"mango\",\"melon\"]"
      ],
      "metadata": {
        "id": "caEwPn29eT9A"
      },
      "execution_count": 31,
      "outputs": []
    },
    {
      "cell_type": "code",
      "source": [
        "first ,second ,*remaning ,last =fruits"
      ],
      "metadata": {
        "id": "YRbts2C8eT42"
      },
      "execution_count": 38,
      "outputs": []
    },
    {
      "cell_type": "code",
      "source": [
        "first\n",
        "second\n",
        "remaning\n",
        "last"
      ],
      "metadata": {
        "colab": {
          "base_uri": "https://localhost:8080/",
          "height": 37
        },
        "id": "cKE3C1wxfKOh",
        "outputId": "66fd6cca-2049-4125-88ff-54b9515f3fa2"
      },
      "execution_count": 39,
      "outputs": [
        {
          "output_type": "execute_result",
          "data": {
            "text/plain": [
              "'melon'"
            ],
            "application/vnd.google.colaboratory.intrinsic+json": {
              "type": "string"
            }
          },
          "metadata": {},
          "execution_count": 39
        }
      ]
    },
    {
      "cell_type": "code",
      "source": [
        "def my_example(*args):\n",
        "  return print(args)"
      ],
      "metadata": {
        "id": "iSE3GZTqfKJK"
      },
      "execution_count": 40,
      "outputs": []
    },
    {
      "cell_type": "code",
      "source": [
        "my_example(1,2,3,\"Ada\")"
      ],
      "metadata": {
        "colab": {
          "base_uri": "https://localhost:8080/"
        },
        "id": "kSYzUoIafKDt",
        "outputId": "7b347ec5-b083-4e89-fe31-6a9dae1559e4"
      },
      "execution_count": 41,
      "outputs": [
        {
          "output_type": "stream",
          "name": "stdout",
          "text": [
            "(1, 2, 3, 'Ada')\n"
          ]
        }
      ]
    },
    {
      "cell_type": "code",
      "source": [
        "def my_example(my_number,*args):\n",
        "  return f\"my number is {my_number},{args}\""
      ],
      "metadata": {
        "id": "fMaKPYjwfJ-D"
      },
      "execution_count": 42,
      "outputs": []
    },
    {
      "cell_type": "code",
      "source": [
        "my_example(10,11,12)"
      ],
      "metadata": {
        "colab": {
          "base_uri": "https://localhost:8080/",
          "height": 37
        },
        "id": "CVX5PTL8fJ3v",
        "outputId": "c9b6905b-235e-483a-9f31-c991fd57431f"
      },
      "execution_count": 43,
      "outputs": [
        {
          "output_type": "execute_result",
          "data": {
            "text/plain": [
              "'my number is 10,(11, 12)'"
            ],
            "application/vnd.google.colaboratory.intrinsic+json": {
              "type": "string"
            }
          },
          "metadata": {},
          "execution_count": 43
        }
      ]
    },
    {
      "cell_type": "code",
      "source": [
        "def second_example(**kwargs):\n",
        "  return kwargs"
      ],
      "metadata": {
        "id": "j4NfLi8afJyF"
      },
      "execution_count": 45,
      "outputs": []
    },
    {
      "cell_type": "code",
      "source": [
        "second_example(number_first_number=10,number_secon_number=11,)"
      ],
      "metadata": {
        "colab": {
          "base_uri": "https://localhost:8080/"
        },
        "id": "c--_d54mfJsC",
        "outputId": "5dfc2ece-4a20-4f67-c32a-3f2990f792df"
      },
      "execution_count": 47,
      "outputs": [
        {
          "output_type": "execute_result",
          "data": {
            "text/plain": [
              "{'number_first_number': 10, 'number_secon_number': 11}"
            ]
          },
          "metadata": {},
          "execution_count": 47
        }
      ]
    },
    {
      "cell_type": "code",
      "source": [
        "def third_example(special_number=1,**kwargs):\n",
        "  return f\"Special number:{special_number} ,also{kwargs}\""
      ],
      "metadata": {
        "id": "Po3q7EF0fJnE"
      },
      "execution_count": 48,
      "outputs": []
    },
    {
      "cell_type": "code",
      "source": [
        "third_example(sepcial_number=2,number_first_number=10,number_second_number=11,)"
      ],
      "metadata": {
        "colab": {
          "base_uri": "https://localhost:8080/",
          "height": 37
        },
        "id": "rMlR1flzfJhg",
        "outputId": "10df9164-63be-4a65-c3ab-3b62fb33967b"
      },
      "execution_count": 49,
      "outputs": [
        {
          "output_type": "execute_result",
          "data": {
            "text/plain": [
              "\"Special number:1 ,also{'sepcial_number': 2, 'number_first_number': 10, 'number_second_number': 11}\""
            ],
            "application/vnd.google.colaboratory.intrinsic+json": {
              "type": "string"
            }
          },
          "metadata": {},
          "execution_count": 49
        }
      ]
    },
    {
      "cell_type": "code",
      "source": [],
      "metadata": {
        "id": "JOGzdV9dhXaG"
      },
      "execution_count": null,
      "outputs": []
    },
    {
      "cell_type": "code",
      "source": [],
      "metadata": {
        "id": "4pBP1eeIhXU4"
      },
      "execution_count": null,
      "outputs": []
    },
    {
      "cell_type": "code",
      "source": [],
      "metadata": {
        "id": "Tlh3TqlgfJco"
      },
      "execution_count": null,
      "outputs": []
    },
    {
      "cell_type": "code",
      "source": [],
      "metadata": {
        "id": "RBx4LygJcVu1"
      },
      "execution_count": null,
      "outputs": []
    }
  ]
}