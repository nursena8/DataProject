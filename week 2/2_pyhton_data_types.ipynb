{
  "nbformat": 4,
  "nbformat_minor": 0,
  "metadata": {
    "colab": {
      "provenance": []
    },
    "kernelspec": {
      "name": "python3",
      "display_name": "Python 3"
    },
    "language_info": {
      "name": "python"
    }
  },
  "cells": [
    {
      "cell_type": "code",
      "execution_count": 1,
      "metadata": {
        "colab": {
          "base_uri": "https://localhost:8080/"
        },
        "id": "-PuA6EH8sjF7",
        "outputId": "c3c36c1e-072d-4a8c-fe1d-6f2a5e250f25"
      },
      "outputs": [
        {
          "output_type": "execute_result",
          "data": {
            "text/plain": [
              "False"
            ]
          },
          "metadata": {},
          "execution_count": 1
        }
      ],
      "source": [
        "bool(1 and 0)"
      ]
    },
    {
      "cell_type": "code",
      "source": [
        "True or False"
      ],
      "metadata": {
        "colab": {
          "base_uri": "https://localhost:8080/"
        },
        "id": "_m8a5wLxvpeU",
        "outputId": "5bc12524-cbc9-4c46-f14f-c0260b05a060"
      },
      "execution_count": 2,
      "outputs": [
        {
          "output_type": "execute_result",
          "data": {
            "text/plain": [
              "True"
            ]
          },
          "metadata": {},
          "execution_count": 2
        }
      ]
    },
    {
      "cell_type": "code",
      "source": [
        "1==True"
      ],
      "metadata": {
        "colab": {
          "base_uri": "https://localhost:8080/"
        },
        "id": "CUwgeRRUvpkj",
        "outputId": "9c625b34-2229-4a44-ecf9-bc49586425e6"
      },
      "execution_count": 3,
      "outputs": [
        {
          "output_type": "execute_result",
          "data": {
            "text/plain": [
              "True"
            ]
          },
          "metadata": {},
          "execution_count": 3
        }
      ]
    },
    {
      "cell_type": "code",
      "source": [
        "0==False"
      ],
      "metadata": {
        "colab": {
          "base_uri": "https://localhost:8080/"
        },
        "id": "tgkNnWOUvppN",
        "outputId": "813f692d-6101-4f65-9c32-aa096819cedf"
      },
      "execution_count": 4,
      "outputs": [
        {
          "output_type": "execute_result",
          "data": {
            "text/plain": [
              "True"
            ]
          },
          "metadata": {},
          "execution_count": 4
        }
      ]
    },
    {
      "cell_type": "code",
      "source": [
        "first=10\n",
        "second=5"
      ],
      "metadata": {
        "id": "_Qc27OZIvpto"
      },
      "execution_count": 5,
      "outputs": []
    },
    {
      "cell_type": "code",
      "source": [
        "if first > second:\n",
        "  print(f\"{first} is greater than {second}\")"
      ],
      "metadata": {
        "colab": {
          "base_uri": "https://localhost:8080/"
        },
        "id": "PahllYsAvpx9",
        "outputId": "28a78fe5-ba38-4f0f-d575-e282c19bca8f"
      },
      "execution_count": 6,
      "outputs": [
        {
          "output_type": "stream",
          "name": "stdout",
          "text": [
            "10 is greater than 5\n"
          ]
        }
      ]
    },
    {
      "cell_type": "code",
      "source": [
        "first=10\n",
        "second=10"
      ],
      "metadata": {
        "id": "249I32Advp30"
      },
      "execution_count": 7,
      "outputs": []
    },
    {
      "cell_type": "code",
      "source": [
        "if first > second:\n",
        "  print(f\"{first} greater than {second}\")\n",
        "elif first == second:\n",
        "  print(f\"{first} and {second} are equal\")\n",
        "else:\n",
        "  print(f\"{first} smaller than {second}  \")"
      ],
      "metadata": {
        "colab": {
          "base_uri": "https://localhost:8080/"
        },
        "id": "FDryJK3G0lMa",
        "outputId": "1c9ba1e8-8d33-4860-d550-c4e02cb53801"
      },
      "execution_count": 8,
      "outputs": [
        {
          "output_type": "stream",
          "name": "stdout",
          "text": [
            "10 and 10 are equal\n"
          ]
        }
      ]
    },
    {
      "cell_type": "code",
      "source": [
        "test_score=80\n",
        "age=18\n",
        "\n",
        "def driver_status(age,test_score):\n",
        "  if test_score >=80 and 16<age<18:\n",
        "    print(\"Intern driver\")\n",
        "  elif test_score>=80 and age>=18:\n",
        "    print(\"driver\")\n",
        "  elif 60<test_score<80 and 16<age<18:\n",
        "    print(\"supervised intern driver\")\n",
        "  elif 60<test_score<80 and age>=16:\n",
        "    print(\"super driver\")\n"
      ],
      "metadata": {
        "id": "UAPi_Jan0lQr"
      },
      "execution_count": 9,
      "outputs": []
    },
    {
      "cell_type": "code",
      "source": [
        "driver_status(18,90)"
      ],
      "metadata": {
        "colab": {
          "base_uri": "https://localhost:8080/"
        },
        "id": "fJSZbI3a0lVH",
        "outputId": "065b29e0-6e23-422a-a962-b1c50ac615fb"
      },
      "execution_count": 10,
      "outputs": [
        {
          "output_type": "stream",
          "name": "stdout",
          "text": [
            "driver\n"
          ]
        }
      ]
    },
    {
      "cell_type": "code",
      "source": [
        "def buzz_func(number):\n",
        "  return \"Buzz!\" if number %2 ==0 else str(number)\n",
        "buzz_func(11)"
      ],
      "metadata": {
        "colab": {
          "base_uri": "https://localhost:8080/",
          "height": 37
        },
        "id": "wQ8V2k7q0law",
        "outputId": "67463eeb-1c85-45b6-e080-0666c117b06a"
      },
      "execution_count": 11,
      "outputs": [
        {
          "output_type": "execute_result",
          "data": {
            "text/plain": [
              "'11'"
            ],
            "application/vnd.google.colaboratory.intrinsic+json": {
              "type": "string"
            }
          },
          "metadata": {},
          "execution_count": 11
        }
      ]
    },
    {
      "cell_type": "code",
      "source": [],
      "metadata": {
        "id": "1WM5vFRmrAQm"
      },
      "execution_count": 11,
      "outputs": []
    },
    {
      "cell_type": "markdown",
      "source": [
        "# String Methods"
      ],
      "metadata": {
        "id": "xIYo9YyJ7kx_"
      }
    },
    {
      "cell_type": "code",
      "source": [
        "test_strings=\"Ada Lovelace Academy hsd started\""
      ],
      "metadata": {
        "id": "_Xfw2m57vqBg"
      },
      "execution_count": 12,
      "outputs": []
    },
    {
      "cell_type": "code",
      "source": [
        "test_strings.lower()"
      ],
      "metadata": {
        "colab": {
          "base_uri": "https://localhost:8080/",
          "height": 37
        },
        "id": "m1CYDy_i7n65",
        "outputId": "3fa25971-90db-4392-c06a-c2e596094452"
      },
      "execution_count": 13,
      "outputs": [
        {
          "output_type": "execute_result",
          "data": {
            "text/plain": [
              "'ada lovelace academy hsd started'"
            ],
            "application/vnd.google.colaboratory.intrinsic+json": {
              "type": "string"
            }
          },
          "metadata": {},
          "execution_count": 13
        }
      ]
    },
    {
      "cell_type": "code",
      "source": [
        "test_strings.strip(\"d\")"
      ],
      "metadata": {
        "colab": {
          "base_uri": "https://localhost:8080/",
          "height": 37
        },
        "id": "X-XX0Tjl7oH5",
        "outputId": "5c398397-c457-488a-d6c5-35f6572d6f82"
      },
      "execution_count": 14,
      "outputs": [
        {
          "output_type": "execute_result",
          "data": {
            "text/plain": [
              "'Ada Lovelace Academy hsd starte'"
            ],
            "application/vnd.google.colaboratory.intrinsic+json": {
              "type": "string"
            }
          },
          "metadata": {},
          "execution_count": 14
        }
      ]
    },
    {
      "cell_type": "code",
      "source": [
        "test_strings.endswith(\" \")"
      ],
      "metadata": {
        "colab": {
          "base_uri": "https://localhost:8080/"
        },
        "id": "svTpR6Tp7oVu",
        "outputId": "e1e186d4-840b-4f85-9b63-1619bb67ea95"
      },
      "execution_count": 15,
      "outputs": [
        {
          "output_type": "execute_result",
          "data": {
            "text/plain": [
              "False"
            ]
          },
          "metadata": {},
          "execution_count": 15
        }
      ]
    },
    {
      "cell_type": "code",
      "source": [
        "test_strings.replace(\"d\",\" .\")"
      ],
      "metadata": {
        "colab": {
          "base_uri": "https://localhost:8080/",
          "height": 37
        },
        "id": "c6gGqGVJLxbx",
        "outputId": "de439c8f-4bf3-4063-f888-d11635eb2f52"
      },
      "execution_count": 16,
      "outputs": [
        {
          "output_type": "execute_result",
          "data": {
            "text/plain": [
              "'A .a Lovelace Aca .emy hs . starte .'"
            ],
            "application/vnd.google.colaboratory.intrinsic+json": {
              "type": "string"
            }
          },
          "metadata": {},
          "execution_count": 16
        }
      ]
    },
    {
      "cell_type": "code",
      "source": [
        "print(test_strings)"
      ],
      "metadata": {
        "colab": {
          "base_uri": "https://localhost:8080/"
        },
        "id": "VLoAt7nTLxhC",
        "outputId": "b28a8fff-93d5-49f7-9f34-6452ccb8b318"
      },
      "execution_count": 17,
      "outputs": [
        {
          "output_type": "stream",
          "name": "stdout",
          "text": [
            "Ada Lovelace Academy hsd started\n"
          ]
        }
      ]
    },
    {
      "cell_type": "markdown",
      "source": [
        "# compraisons"
      ],
      "metadata": {
        "id": "XRRMR9YiNlCA"
      }
    },
    {
      "cell_type": "code",
      "source": [
        "15 != 10"
      ],
      "metadata": {
        "colab": {
          "base_uri": "https://localhost:8080/"
        },
        "id": "fN2-iVFhNjZK",
        "outputId": "d615caf5-ba87-477f-e07c-40b64758cc70"
      },
      "execution_count": 18,
      "outputs": [
        {
          "output_type": "execute_result",
          "data": {
            "text/plain": [
              "True"
            ]
          },
          "metadata": {},
          "execution_count": 18
        }
      ]
    },
    {
      "cell_type": "code",
      "source": [
        "\"Ada\"==\"Lovelace\""
      ],
      "metadata": {
        "colab": {
          "base_uri": "https://localhost:8080/"
        },
        "id": "DU1vhFFnNjeH",
        "outputId": "9ef63375-8439-4d77-8eda-e0e63ce8df2e"
      },
      "execution_count": 19,
      "outputs": [
        {
          "output_type": "execute_result",
          "data": {
            "text/plain": [
              "False"
            ]
          },
          "metadata": {},
          "execution_count": 19
        }
      ]
    },
    {
      "cell_type": "code",
      "source": [
        "my_number=[]\n",
        "15 is not my_number"
      ],
      "metadata": {
        "colab": {
          "base_uri": "https://localhost:8080/"
        },
        "id": "Z5aA-RxnNjjJ",
        "outputId": "4ccfc086-f3d4-4a39-ca5c-dea7b869aa1e"
      },
      "execution_count": 20,
      "outputs": [
        {
          "output_type": "stream",
          "name": "stderr",
          "text": [
            "<>:2: SyntaxWarning: \"is not\" with a literal. Did you mean \"!=\"?\n",
            "<>:2: SyntaxWarning: \"is not\" with a literal. Did you mean \"!=\"?\n",
            "<ipython-input-20-2da28d940a71>:2: SyntaxWarning: \"is not\" with a literal. Did you mean \"!=\"?\n",
            "  15 is not my_number\n"
          ]
        },
        {
          "output_type": "execute_result",
          "data": {
            "text/plain": [
              "True"
            ]
          },
          "metadata": {},
          "execution_count": 20
        }
      ]
    },
    {
      "cell_type": "code",
      "source": [
        "my_list=[1,2,3,4]\n",
        "3 not in my_list"
      ],
      "metadata": {
        "colab": {
          "base_uri": "https://localhost:8080/"
        },
        "id": "bG3iLHE9Njnf",
        "outputId": "39d3ba8c-47cd-4695-bad5-c258b6e1723d"
      },
      "execution_count": 21,
      "outputs": [
        {
          "output_type": "execute_result",
          "data": {
            "text/plain": [
              "False"
            ]
          },
          "metadata": {},
          "execution_count": 21
        }
      ]
    },
    {
      "cell_type": "code",
      "source": [
        "1 in my_list"
      ],
      "metadata": {
        "colab": {
          "base_uri": "https://localhost:8080/"
        },
        "id": "jqBa5d4iNjuQ",
        "outputId": "8035b740-6fa0-47ad-eeb9-501bf62b80da"
      },
      "execution_count": 22,
      "outputs": [
        {
          "output_type": "execute_result",
          "data": {
            "text/plain": [
              "True"
            ]
          },
          "metadata": {},
          "execution_count": 22
        }
      ]
    },
    {
      "cell_type": "code",
      "source": [],
      "metadata": {
        "id": "gx1jIXBvNj1c"
      },
      "execution_count": 22,
      "outputs": []
    },
    {
      "cell_type": "markdown",
      "source": [
        "# List"
      ],
      "metadata": {
        "id": "aABOjmrBPLx9"
      }
    },
    {
      "cell_type": "code",
      "source": [
        "my_list=[]"
      ],
      "metadata": {
        "id": "EM4iIaAqPJqd"
      },
      "execution_count": 23,
      "outputs": []
    },
    {
      "cell_type": "code",
      "source": [],
      "metadata": {
        "id": "PasGScYdQAY8"
      },
      "execution_count": 23,
      "outputs": []
    },
    {
      "cell_type": "code",
      "source": [
        "example_list=[1,\"string\",[1,2,3]]"
      ],
      "metadata": {
        "id": "nELCSAAmPJwD"
      },
      "execution_count": 24,
      "outputs": []
    },
    {
      "cell_type": "code",
      "source": [
        "print(example_list)"
      ],
      "metadata": {
        "colab": {
          "base_uri": "https://localhost:8080/"
        },
        "id": "AT4VVixmP6UF",
        "outputId": "df4f0095-457f-40dc-d090-2cca9d6729a8"
      },
      "execution_count": 25,
      "outputs": [
        {
          "output_type": "stream",
          "name": "stdout",
          "text": [
            "[1, 'string', [1, 2, 3]]\n"
          ]
        }
      ]
    },
    {
      "cell_type": "code",
      "source": [
        "test_list=list()"
      ],
      "metadata": {
        "id": "9uGfn5jwPJ12"
      },
      "execution_count": 26,
      "outputs": []
    },
    {
      "cell_type": "code",
      "source": [
        "test_list"
      ],
      "metadata": {
        "colab": {
          "base_uri": "https://localhost:8080/"
        },
        "id": "9U9XCOhtPJ9V",
        "outputId": "ea5f26c9-3609-4831-ef37-34a846432283"
      },
      "execution_count": 27,
      "outputs": [
        {
          "output_type": "execute_result",
          "data": {
            "text/plain": [
              "[]"
            ]
          },
          "metadata": {},
          "execution_count": 27
        }
      ]
    },
    {
      "cell_type": "code",
      "source": [
        "example_list=list(\"string\")\n",
        "literal_list=[\"string\"]"
      ],
      "metadata": {
        "id": "33iXwtMMPKFL"
      },
      "execution_count": 28,
      "outputs": []
    },
    {
      "cell_type": "code",
      "source": [
        "example_list"
      ],
      "metadata": {
        "colab": {
          "base_uri": "https://localhost:8080/"
        },
        "id": "SDnvse8N7orw",
        "outputId": "04d4f64a-2784-4bd4-9382-235cdacfda89"
      },
      "execution_count": 29,
      "outputs": [
        {
          "output_type": "execute_result",
          "data": {
            "text/plain": [
              "['s', 't', 'r', 'i', 'n', 'g']"
            ]
          },
          "metadata": {},
          "execution_count": 29
        }
      ]
    },
    {
      "cell_type": "code",
      "source": [
        "literal_list"
      ],
      "metadata": {
        "colab": {
          "base_uri": "https://localhost:8080/"
        },
        "id": "xowZdbU57pB8",
        "outputId": "6553cc57-e117-4a2b-cfbd-b4ea53b7573c"
      },
      "execution_count": 30,
      "outputs": [
        {
          "output_type": "execute_result",
          "data": {
            "text/plain": [
              "['string']"
            ]
          },
          "metadata": {},
          "execution_count": 30
        }
      ]
    },
    {
      "cell_type": "code",
      "source": [
        "example_list=[1,\"Acaademy\",[1,2,3]]"
      ],
      "metadata": {
        "id": "YRZhByjfT_Dm"
      },
      "execution_count": 31,
      "outputs": []
    },
    {
      "cell_type": "code",
      "source": [
        "example_list[0]"
      ],
      "metadata": {
        "colab": {
          "base_uri": "https://localhost:8080/"
        },
        "id": "wOl2r7c8UAmy",
        "outputId": "97426f8b-9ef9-40fc-863b-8e53d4c35b58"
      },
      "execution_count": 32,
      "outputs": [
        {
          "output_type": "execute_result",
          "data": {
            "text/plain": [
              "1"
            ]
          },
          "metadata": {},
          "execution_count": 32
        }
      ]
    },
    {
      "cell_type": "code",
      "source": [
        "example_list[-1]"
      ],
      "metadata": {
        "colab": {
          "base_uri": "https://localhost:8080/"
        },
        "id": "N_7AB6OFUAsA",
        "outputId": "e009cdf2-88b9-4c5a-c9cd-fd0bc48acd3e"
      },
      "execution_count": 33,
      "outputs": [
        {
          "output_type": "execute_result",
          "data": {
            "text/plain": [
              "[1, 2, 3]"
            ]
          },
          "metadata": {},
          "execution_count": 33
        }
      ]
    },
    {
      "cell_type": "code",
      "source": [
        "example_list[:2]"
      ],
      "metadata": {
        "colab": {
          "base_uri": "https://localhost:8080/"
        },
        "id": "G1ZlFD98UAwZ",
        "outputId": "d2a3a23b-fc4e-4899-fcd9-321267e396a6"
      },
      "execution_count": 34,
      "outputs": [
        {
          "output_type": "execute_result",
          "data": {
            "text/plain": [
              "[1, 'Acaademy']"
            ]
          },
          "metadata": {},
          "execution_count": 34
        }
      ]
    },
    {
      "cell_type": "code",
      "source": [
        "colors=[\"yellow\",\"green\",\"red\",\"blue\",\"purpl\"]"
      ],
      "metadata": {
        "id": "7QKLDs2TUA2O"
      },
      "execution_count": 35,
      "outputs": []
    },
    {
      "cell_type": "code",
      "source": [
        "for color in colors:\n",
        "  print(color)"
      ],
      "metadata": {
        "colab": {
          "base_uri": "https://localhost:8080/"
        },
        "id": "weZTHPGyUA7q",
        "outputId": "3e53d772-fbf4-415f-c047-782c7de11fab"
      },
      "execution_count": 36,
      "outputs": [
        {
          "output_type": "stream",
          "name": "stdout",
          "text": [
            "yellow\n",
            "green\n",
            "red\n",
            "blue\n",
            "purpl\n"
          ]
        }
      ]
    },
    {
      "cell_type": "code",
      "source": [
        "for index,color in enumerate(colors):\n",
        "  print(index,color)"
      ],
      "metadata": {
        "colab": {
          "base_uri": "https://localhost:8080/"
        },
        "id": "M8-1clhTUBCq",
        "outputId": "c814df36-de1e-4565-9ac1-54ac40f46d56"
      },
      "execution_count": 37,
      "outputs": [
        {
          "output_type": "stream",
          "name": "stdout",
          "text": [
            "0 yellow\n",
            "1 green\n",
            "2 red\n",
            "3 blue\n",
            "4 purpl\n"
          ]
        }
      ]
    },
    {
      "cell_type": "code",
      "source": [
        "cubes_to_1000=[]"
      ],
      "metadata": {
        "id": "-e0em5qbUBHK"
      },
      "execution_count": 38,
      "outputs": []
    },
    {
      "cell_type": "code",
      "source": [
        "for number in range(1,11):\n",
        "  cubes_to_1000.append(number**3)\n",
        "\n",
        "cubes_to_1000"
      ],
      "metadata": {
        "colab": {
          "base_uri": "https://localhost:8080/"
        },
        "id": "5tlgjKDwUBMk",
        "outputId": "1f662339-313e-4955-9e36-42794a79f537"
      },
      "execution_count": 39,
      "outputs": [
        {
          "output_type": "execute_result",
          "data": {
            "text/plain": [
              "[1, 8, 27, 64, 125, 216, 343, 512, 729, 1000]"
            ]
          },
          "metadata": {},
          "execution_count": 39
        }
      ]
    },
    {
      "cell_type": "code",
      "source": [
        "colors\n",
        "new_colors=colors\n",
        "new_colors"
      ],
      "metadata": {
        "colab": {
          "base_uri": "https://localhost:8080/"
        },
        "id": "-aP3yD3cUBRG",
        "outputId": "68ad1ef3-36cb-48af-bb7e-695d48450a74"
      },
      "execution_count": 40,
      "outputs": [
        {
          "output_type": "execute_result",
          "data": {
            "text/plain": [
              "['yellow', 'green', 'red', 'blue', 'purpl']"
            ]
          },
          "metadata": {},
          "execution_count": 40
        }
      ]
    },
    {
      "cell_type": "code",
      "source": [
        "new_colors.append(\"orange\")"
      ],
      "metadata": {
        "id": "FlGFXlvWUBWo"
      },
      "execution_count": 41,
      "outputs": []
    },
    {
      "cell_type": "code",
      "source": [
        "colors.pop()"
      ],
      "metadata": {
        "colab": {
          "base_uri": "https://localhost:8080/",
          "height": 37
        },
        "id": "kIV7sR3RUBbO",
        "outputId": "c20def35-1605-415a-fc4f-8e0048b00b08"
      },
      "execution_count": 42,
      "outputs": [
        {
          "output_type": "execute_result",
          "data": {
            "text/plain": [
              "'orange'"
            ],
            "application/vnd.google.colaboratory.intrinsic+json": {
              "type": "string"
            }
          },
          "metadata": {},
          "execution_count": 42
        }
      ]
    },
    {
      "cell_type": "code",
      "source": [
        "newest_color=colors.copy()\n",
        "newest_color"
      ],
      "metadata": {
        "colab": {
          "base_uri": "https://localhost:8080/"
        },
        "id": "WQCELQXmvqGo",
        "outputId": "6c3cf426-3583-4e6d-fb6e-75b039116324"
      },
      "execution_count": 43,
      "outputs": [
        {
          "output_type": "execute_result",
          "data": {
            "text/plain": [
              "['yellow', 'green', 'red', 'blue', 'purpl']"
            ]
          },
          "metadata": {},
          "execution_count": 43
        }
      ]
    },
    {
      "cell_type": "code",
      "source": [
        "newest_color.append(\"color2\")\n",
        "newest_color"
      ],
      "metadata": {
        "colab": {
          "base_uri": "https://localhost:8080/"
        },
        "id": "_xbKfoowT9We",
        "outputId": "d12d7494-f71e-4823-a951-a046091cad5a"
      },
      "execution_count": 44,
      "outputs": [
        {
          "output_type": "execute_result",
          "data": {
            "text/plain": [
              "['yellow', 'green', 'red', 'blue', 'purpl', 'color2']"
            ]
          },
          "metadata": {},
          "execution_count": 44
        }
      ]
    },
    {
      "cell_type": "code",
      "source": [
        "newest_color.insert(0,\"color3\")\n",
        "newest_color"
      ],
      "metadata": {
        "id": "mb9Dt2nTT9cY",
        "colab": {
          "base_uri": "https://localhost:8080/"
        },
        "outputId": "92f83e6a-9eff-4ce7-9c2c-78b19d9fb1b7"
      },
      "execution_count": 45,
      "outputs": [
        {
          "output_type": "execute_result",
          "data": {
            "text/plain": [
              "['color3', 'yellow', 'green', 'red', 'blue', 'purpl', 'color2']"
            ]
          },
          "metadata": {},
          "execution_count": 45
        }
      ]
    },
    {
      "cell_type": "code",
      "source": [
        "newest_color.remove(\"color2\")\n",
        "newest_color.remove(\"color3\")"
      ],
      "metadata": {
        "id": "oGQcEkVQT9iU"
      },
      "execution_count": 46,
      "outputs": []
    },
    {
      "cell_type": "code",
      "source": [
        "colors.sort(reverse=True)\n",
        "colors"
      ],
      "metadata": {
        "colab": {
          "base_uri": "https://localhost:8080/"
        },
        "id": "uTfr89tET9rA",
        "outputId": "20176d14-211e-433a-891b-0c1b0739dc5b"
      },
      "execution_count": 47,
      "outputs": [
        {
          "output_type": "execute_result",
          "data": {
            "text/plain": [
              "['yellow', 'red', 'purpl', 'green', 'blue']"
            ]
          },
          "metadata": {},
          "execution_count": 47
        }
      ]
    },
    {
      "cell_type": "code",
      "source": [
        "colors.index(\"yellow\")"
      ],
      "metadata": {
        "colab": {
          "base_uri": "https://localhost:8080/"
        },
        "id": "awN90KCTbev1",
        "outputId": "8e100380-d3f2-4b4d-ad89-37da21b3c6b6"
      },
      "execution_count": 48,
      "outputs": [
        {
          "output_type": "execute_result",
          "data": {
            "text/plain": [
              "0"
            ]
          },
          "metadata": {},
          "execution_count": 48
        }
      ]
    },
    {
      "cell_type": "code",
      "source": [],
      "metadata": {
        "id": "fXKh0KC-be3M"
      },
      "execution_count": 48,
      "outputs": []
    },
    {
      "cell_type": "code",
      "source": [
        "my_tuple=tuple()"
      ],
      "metadata": {
        "id": "BO3Ls--lbe_Z"
      },
      "execution_count": 49,
      "outputs": []
    },
    {
      "cell_type": "code",
      "source": [
        "my_tuple=tuple([10])\n",
        "my_tuple"
      ],
      "metadata": {
        "colab": {
          "base_uri": "https://localhost:8080/"
        },
        "id": "ldtM4ATXbfIT",
        "outputId": "b9374ba9-4295-4fa4-da40-3e110cdb7ed0"
      },
      "execution_count": 50,
      "outputs": [
        {
          "output_type": "execute_result",
          "data": {
            "text/plain": [
              "(10,)"
            ]
          },
          "metadata": {},
          "execution_count": 50
        }
      ]
    },
    {
      "cell_type": "code",
      "source": [
        "my_string=tuple(\"Lovelace\")"
      ],
      "metadata": {
        "id": "EmMaPwWCb6tS"
      },
      "execution_count": 51,
      "outputs": []
    },
    {
      "cell_type": "code",
      "source": [
        "my_string"
      ],
      "metadata": {
        "id": "XiS7Q7bocAAJ",
        "colab": {
          "base_uri": "https://localhost:8080/"
        },
        "outputId": "f48b9967-790b-40e5-e564-2022d34f1289"
      },
      "execution_count": 52,
      "outputs": [
        {
          "output_type": "execute_result",
          "data": {
            "text/plain": [
              "('L', 'o', 'v', 'e', 'l', 'a', 'c', 'e')"
            ]
          },
          "metadata": {},
          "execution_count": 52
        }
      ]
    },
    {
      "cell_type": "code",
      "source": [
        "my_tuple=tuple([10,\"Ada\",\"Lovelace\",11])\n",
        "my_tuple"
      ],
      "metadata": {
        "id": "1AyfOYpTcAHK",
        "colab": {
          "base_uri": "https://localhost:8080/"
        },
        "outputId": "fbd270c7-1489-40b8-8906-fcc12f7279cb"
      },
      "execution_count": 53,
      "outputs": [
        {
          "output_type": "execute_result",
          "data": {
            "text/plain": [
              "(10, 'Ada', 'Lovelace', 11)"
            ]
          },
          "metadata": {},
          "execution_count": 53
        }
      ]
    },
    {
      "cell_type": "code",
      "source": [
        "#dictionary"
      ],
      "metadata": {
        "id": "F05IsB6EcAQ-"
      },
      "execution_count": 54,
      "outputs": []
    },
    {
      "cell_type": "code",
      "source": [
        "animal_colors={\n",
        "    \"yellow\":\"cat\",\n",
        "    \"white\":\"horse\",\n",
        "    \"pink\":\"pig\"\n",
        "}"
      ],
      "metadata": {
        "id": "rlzSUA1ucAZR"
      },
      "execution_count": 55,
      "outputs": []
    },
    {
      "cell_type": "code",
      "source": [
        "animal_colors_tuple=tuple(animal_colors)\n",
        "animal_colors_tuple"
      ],
      "metadata": {
        "id": "Unr7PhSAcAjH",
        "colab": {
          "base_uri": "https://localhost:8080/"
        },
        "outputId": "5f18da52-5be8-4539-9287-be0d063df9d5"
      },
      "execution_count": 56,
      "outputs": [
        {
          "output_type": "execute_result",
          "data": {
            "text/plain": [
              "('yellow', 'white', 'pink')"
            ]
          },
          "metadata": {},
          "execution_count": 56
        }
      ]
    },
    {
      "cell_type": "code",
      "source": [
        "animal_colors_tupl=tuple(animal_colors.items())\n",
        "animal_colors_tupl"
      ],
      "metadata": {
        "id": "jKucs6U7cArI",
        "colab": {
          "base_uri": "https://localhost:8080/"
        },
        "outputId": "d722d56a-8ec2-4ed2-a05d-d6f3474c721f"
      },
      "execution_count": 57,
      "outputs": [
        {
          "output_type": "execute_result",
          "data": {
            "text/plain": [
              "(('yellow', 'cat'), ('white', 'horse'), ('pink', 'pig'))"
            ]
          },
          "metadata": {},
          "execution_count": 57
        }
      ]
    },
    {
      "cell_type": "code",
      "source": [
        "my_new_tuple=(\"ada\",)\n",
        "type(my_new_tuple)"
      ],
      "metadata": {
        "id": "6K1m8f9xcA0D",
        "colab": {
          "base_uri": "https://localhost:8080/"
        },
        "outputId": "81ca92d4-2517-467e-966f-63743dfc72d5"
      },
      "execution_count": 58,
      "outputs": [
        {
          "output_type": "execute_result",
          "data": {
            "text/plain": [
              "tuple"
            ]
          },
          "metadata": {},
          "execution_count": 58
        }
      ]
    },
    {
      "cell_type": "code",
      "source": [
        "my_tuple=\"Ada\",\"Lovelace\""
      ],
      "metadata": {
        "id": "nc9hp1UecA9q"
      },
      "execution_count": 59,
      "outputs": []
    },
    {
      "cell_type": "code",
      "source": [
        "my_tuple"
      ],
      "metadata": {
        "id": "tGe0zzGAcBGw",
        "colab": {
          "base_uri": "https://localhost:8080/"
        },
        "outputId": "8e09721a-fdc4-468f-cc3c-dcaff07b1ac1"
      },
      "execution_count": 60,
      "outputs": [
        {
          "output_type": "execute_result",
          "data": {
            "text/plain": [
              "('Ada', 'Lovelace')"
            ]
          },
          "metadata": {},
          "execution_count": 60
        }
      ]
    },
    {
      "cell_type": "code",
      "source": [
        "my_tuple[0]"
      ],
      "metadata": {
        "id": "Vu36ja0fcBPi",
        "colab": {
          "base_uri": "https://localhost:8080/",
          "height": 37
        },
        "outputId": "95bfb2cc-adf9-4959-8d2d-32be54d23b49"
      },
      "execution_count": 61,
      "outputs": [
        {
          "output_type": "execute_result",
          "data": {
            "text/plain": [
              "'Ada'"
            ],
            "application/vnd.google.colaboratory.intrinsic+json": {
              "type": "string"
            }
          },
          "metadata": {},
          "execution_count": 61
        }
      ]
    },
    {
      "cell_type": "code",
      "source": [
        "animals=dict([(\"cat\",\"yellow\"),(\"white\",\"horse\"),(\"pink\",\"pig\")])"
      ],
      "metadata": {
        "id": "sP-Tgv47cBZR"
      },
      "execution_count": 62,
      "outputs": []
    },
    {
      "cell_type": "code",
      "source": [
        "animals"
      ],
      "metadata": {
        "id": "GCmQab7IcBin",
        "colab": {
          "base_uri": "https://localhost:8080/"
        },
        "outputId": "bd45e506-d67d-43ed-afdb-db3d7b4e6ee4"
      },
      "execution_count": 63,
      "outputs": [
        {
          "output_type": "execute_result",
          "data": {
            "text/plain": [
              "{'cat': 'yellow', 'white': 'horse', 'pink': 'pig'}"
            ]
          },
          "metadata": {},
          "execution_count": 63
        }
      ]
    },
    {
      "cell_type": "code",
      "source": [
        "animals={\n",
        "    \"cat\":{\n",
        "        \"color\":\"yellow\",\n",
        "        \"leg\":4\n",
        "    },\n",
        "    \"pig\":\"pink\",\n",
        "    \"horse\":\"whit\"\n",
        "\n",
        "}"
      ],
      "metadata": {
        "id": "iCIDNssRcBtC"
      },
      "execution_count": 64,
      "outputs": []
    },
    {
      "cell_type": "code",
      "source": [
        "animals[\"pig\"]"
      ],
      "metadata": {
        "id": "x0IQ39UJcCMY",
        "colab": {
          "base_uri": "https://localhost:8080/",
          "height": 37
        },
        "outputId": "b1f7396b-e727-4b9a-ef5d-bdd8d6bbfce5"
      },
      "execution_count": 65,
      "outputs": [
        {
          "output_type": "execute_result",
          "data": {
            "text/plain": [
              "'pink'"
            ],
            "application/vnd.google.colaboratory.intrinsic+json": {
              "type": "string"
            }
          },
          "metadata": {},
          "execution_count": 65
        }
      ]
    },
    {
      "cell_type": "code",
      "source": [
        "animals[\"cat\"][\"color\"]"
      ],
      "metadata": {
        "id": "LMk93bDVcCi_",
        "colab": {
          "base_uri": "https://localhost:8080/",
          "height": 37
        },
        "outputId": "ebedb196-5bb4-4226-ff5d-b0aae1feedfb"
      },
      "execution_count": 66,
      "outputs": [
        {
          "output_type": "execute_result",
          "data": {
            "text/plain": [
              "'yellow'"
            ],
            "application/vnd.google.colaboratory.intrinsic+json": {
              "type": "string"
            }
          },
          "metadata": {},
          "execution_count": 66
        }
      ]
    },
    {
      "cell_type": "code",
      "source": [
        "animals.get(\"cat\")"
      ],
      "metadata": {
        "id": "TMZWqTHhcDg2",
        "colab": {
          "base_uri": "https://localhost:8080/"
        },
        "outputId": "ebfbdf84-0646-4b56-99f7-0cf7a023c108"
      },
      "execution_count": 67,
      "outputs": [
        {
          "output_type": "execute_result",
          "data": {
            "text/plain": [
              "{'color': 'yellow', 'leg': 4}"
            ]
          },
          "metadata": {},
          "execution_count": 67
        }
      ]
    },
    {
      "cell_type": "code",
      "source": [
        "animals.get(\"bear\")"
      ],
      "metadata": {
        "id": "iMv1pODmcEsi"
      },
      "execution_count": 68,
      "outputs": []
    },
    {
      "cell_type": "code",
      "source": [
        "animals[\"new\"]=\"value\""
      ],
      "metadata": {
        "id": "H95BOoOlcFp7"
      },
      "execution_count": 69,
      "outputs": []
    },
    {
      "cell_type": "code",
      "source": [
        "animals"
      ],
      "metadata": {
        "id": "liQFOUI9cGDV",
        "colab": {
          "base_uri": "https://localhost:8080/"
        },
        "outputId": "7b77f469-42b9-4e4d-d3a7-d4ce034aba86"
      },
      "execution_count": 70,
      "outputs": [
        {
          "output_type": "execute_result",
          "data": {
            "text/plain": [
              "{'cat': {'color': 'yellow', 'leg': 4},\n",
              " 'pig': 'pink',\n",
              " 'horse': 'whit',\n",
              " 'new': 'value'}"
            ]
          },
          "metadata": {},
          "execution_count": 70
        }
      ]
    },
    {
      "cell_type": "code",
      "source": [
        "for color,animal in animal_colors.items():\n",
        "  print(f\"{animal} ,{color}\")"
      ],
      "metadata": {
        "id": "_D_Wls6UcGTq",
        "colab": {
          "base_uri": "https://localhost:8080/"
        },
        "outputId": "a3972c04-9473-4f78-9474-ef036f8fc9c1"
      },
      "execution_count": 71,
      "outputs": [
        {
          "output_type": "stream",
          "name": "stdout",
          "text": [
            "cat ,yellow\n",
            "horse ,white\n",
            "pig ,pink\n"
          ]
        }
      ]
    },
    {
      "cell_type": "code",
      "source": [
        "animals.pop(\"pig\")"
      ],
      "metadata": {
        "id": "epUmjHJPcGdF",
        "colab": {
          "base_uri": "https://localhost:8080/",
          "height": 37
        },
        "outputId": "7854af53-8d3e-4921-f11e-abaa9c13e111"
      },
      "execution_count": 72,
      "outputs": [
        {
          "output_type": "execute_result",
          "data": {
            "text/plain": [
              "'pink'"
            ],
            "application/vnd.google.colaboratory.intrinsic+json": {
              "type": "string"
            }
          },
          "metadata": {},
          "execution_count": 72
        }
      ]
    },
    {
      "cell_type": "code",
      "source": [
        "#Sets"
      ],
      "metadata": {
        "id": "UC-fpW6xcGli"
      },
      "execution_count": 73,
      "outputs": []
    },
    {
      "cell_type": "code",
      "source": [
        "my_sets={\"ada\"}"
      ],
      "metadata": {
        "id": "sbPp2pz2cGxP"
      },
      "execution_count": 74,
      "outputs": []
    },
    {
      "cell_type": "code",
      "source": [
        "type(my_sets)"
      ],
      "metadata": {
        "id": "HZbLOFswcG8C",
        "colab": {
          "base_uri": "https://localhost:8080/"
        },
        "outputId": "ea08b8a7-ffe8-43f2-9e9b-a008b683d899"
      },
      "execution_count": 75,
      "outputs": [
        {
          "output_type": "execute_result",
          "data": {
            "text/plain": [
              "set"
            ]
          },
          "metadata": {},
          "execution_count": 75
        }
      ]
    },
    {
      "cell_type": "code",
      "source": [
        "my_set={\"Ada\",\"Lovelace\",\"marry\",\"Ada\"}\n",
        "my_set"
      ],
      "metadata": {
        "id": "yoRfPECrcHkK",
        "colab": {
          "base_uri": "https://localhost:8080/"
        },
        "outputId": "cf7abe78-ba01-4dfa-db12-f4083c492880"
      },
      "execution_count": 76,
      "outputs": [
        {
          "output_type": "execute_result",
          "data": {
            "text/plain": [
              "{'Ada', 'Lovelace', 'marry'}"
            ]
          },
          "metadata": {},
          "execution_count": 76
        }
      ]
    },
    {
      "cell_type": "code",
      "source": [
        "animal_colors={\n",
        "    \"cat\":\"yellow\",\"pig\":\"pink\",\"horse\":\"blac\",\n",
        "}\n",
        "animal_set=set(animal_colors.values())\n",
        "animal_set"
      ],
      "metadata": {
        "colab": {
          "base_uri": "https://localhost:8080/"
        },
        "id": "Ub6VBMaAlfNF",
        "outputId": "79b6f9da-dede-43d3-df8b-3c1f98ec8172"
      },
      "execution_count": 77,
      "outputs": [
        {
          "output_type": "execute_result",
          "data": {
            "text/plain": [
              "{'blac', 'pink', 'yellow'}"
            ]
          },
          "metadata": {},
          "execution_count": 77
        }
      ]
    },
    {
      "cell_type": "code",
      "source": [
        "numbers=[1,1,1,2,2,2,3,4,4,4,5,17]\n",
        "calculated_number_set={number**2 for number in numbers if number %3 ==0}"
      ],
      "metadata": {
        "id": "xL84zF6rlfUQ"
      },
      "execution_count": 78,
      "outputs": []
    },
    {
      "cell_type": "code",
      "source": [
        "calculated_number_set"
      ],
      "metadata": {
        "colab": {
          "base_uri": "https://localhost:8080/"
        },
        "id": "z_pURXOElfcu",
        "outputId": "ae381979-eade-4242-c2a8-096498dbe1e8"
      },
      "execution_count": 79,
      "outputs": [
        {
          "output_type": "execute_result",
          "data": {
            "text/plain": [
              "{9}"
            ]
          },
          "metadata": {},
          "execution_count": 79
        }
      ]
    },
    {
      "cell_type": "code",
      "source": [
        "calculated_number_list=[number**2 for number in numbers if number%3 ==0]"
      ],
      "metadata": {
        "id": "A8z1L5UylfmU"
      },
      "execution_count": 80,
      "outputs": []
    },
    {
      "cell_type": "code",
      "source": [
        "calculated_number_list"
      ],
      "metadata": {
        "colab": {
          "base_uri": "https://localhost:8080/"
        },
        "id": "1sJogAFQlfxf",
        "outputId": "b3d5a140-fe8a-457e-9a1f-8437e8fda4f8"
      },
      "execution_count": 81,
      "outputs": [
        {
          "output_type": "execute_result",
          "data": {
            "text/plain": [
              "[9]"
            ]
          },
          "metadata": {},
          "execution_count": 81
        }
      ]
    },
    {
      "cell_type": "code",
      "source": [
        "def calculated_numbers(my_li):\n",
        "  my_value=[]\n",
        "  for number in numbers:\n",
        "    deger=number**2\n",
        "    if deger%2==0:\n",
        "     my_value.append(deger)\n",
        "  return set(my_value)"
      ],
      "metadata": {
        "id": "0FUxEaMNq52g"
      },
      "execution_count": 82,
      "outputs": []
    },
    {
      "cell_type": "code",
      "source": [
        "calculated_numbers(numbers)"
      ],
      "metadata": {
        "colab": {
          "base_uri": "https://localhost:8080/"
        },
        "id": "O8A7k5gclf5N",
        "outputId": "3db55270-aefb-4c35-818d-378c5df1b984"
      },
      "execution_count": 83,
      "outputs": [
        {
          "output_type": "execute_result",
          "data": {
            "text/plain": [
              "{4, 16}"
            ]
          },
          "metadata": {},
          "execution_count": 83
        }
      ]
    },
    {
      "cell_type": "code",
      "source": [
        "element_string=set(\"Ada\")"
      ],
      "metadata": {
        "id": "hKKrOcgllgAz"
      },
      "execution_count": 84,
      "outputs": []
    },
    {
      "cell_type": "code",
      "source": [
        "element_string"
      ],
      "metadata": {
        "colab": {
          "base_uri": "https://localhost:8080/"
        },
        "id": "dmH5dXN9lgIh",
        "outputId": "fcf8358e-cd70-41a1-a456-2626deb45d50"
      },
      "execution_count": 85,
      "outputs": [
        {
          "output_type": "execute_result",
          "data": {
            "text/plain": [
              "{'A', 'a', 'd'}"
            ]
          },
          "metadata": {},
          "execution_count": 85
        }
      ]
    },
    {
      "cell_type": "code",
      "source": [
        "birds={\"crow\",\"sprroq\",\"eagle\",\"chicken\",\"albatross\"}\n"
      ],
      "metadata": {
        "id": "RohDMhwjlgRQ"
      },
      "execution_count": 86,
      "outputs": []
    },
    {
      "cell_type": "code",
      "source": [
        "animals={\n",
        "    'chicken': 'white',\n",
        "    'sparrow': 'grey',\n",
        "    'eagle': 'brown and white',\n",
        "    'albatross': 'grey and white',\n",
        "    'crow': 'black',\n",
        "    'elephant': 'grey',\n",
        "    'dog': 'rust',\n",
        "    'cow': 'black and white',\n",
        "    'tiger': 'orange and black',\n",
        "    'cat': 'grey',\n",
        "    'squirrel': 'black'\n",
        "}"
      ],
      "metadata": {
        "id": "7igQH_DVlgbG"
      },
      "execution_count": 87,
      "outputs": []
    },
    {
      "cell_type": "code",
      "source": [
        "birds.isdisjoint(animals)"
      ],
      "metadata": {
        "colab": {
          "base_uri": "https://localhost:8080/"
        },
        "id": "gY2oU6rClgk2",
        "outputId": "38b11e15-892b-43d4-df7a-79a82f9d2f07"
      },
      "execution_count": 88,
      "outputs": [
        {
          "output_type": "execute_result",
          "data": {
            "text/plain": [
              "False"
            ]
          },
          "metadata": {},
          "execution_count": 88
        }
      ]
    },
    {
      "cell_type": "code",
      "source": [
        "birds.issubset(animals)"
      ],
      "metadata": {
        "colab": {
          "base_uri": "https://localhost:8080/"
        },
        "id": "lNZKfPCIyY0f",
        "outputId": "d13aa8b0-49ac-4be7-dc5f-0c5726fe7ce0"
      },
      "execution_count": 89,
      "outputs": [
        {
          "output_type": "execute_result",
          "data": {
            "text/plain": [
              "False"
            ]
          },
          "metadata": {},
          "execution_count": 89
        }
      ]
    },
    {
      "cell_type": "code",
      "source": [
        "set(animals).issuperset(birds)"
      ],
      "metadata": {
        "colab": {
          "base_uri": "https://localhost:8080/"
        },
        "id": "ye8KFopryY9f",
        "outputId": "0b9e7a66-62a8-4008-d3a9-3f470290db9d"
      },
      "execution_count": 90,
      "outputs": [
        {
          "output_type": "execute_result",
          "data": {
            "text/plain": [
              "False"
            ]
          },
          "metadata": {},
          "execution_count": 90
        }
      ]
    },
    {
      "cell_type": "code",
      "source": [],
      "metadata": {
        "id": "AxSbI_KvyZJ5"
      },
      "execution_count": 90,
      "outputs": []
    },
    {
      "cell_type": "code",
      "source": [],
      "metadata": {
        "id": "jiArU7M2yZRc"
      },
      "execution_count": 90,
      "outputs": []
    },
    {
      "cell_type": "code",
      "source": [],
      "metadata": {
        "id": "v9SfcLupyZac"
      },
      "execution_count": 90,
      "outputs": []
    },
    {
      "cell_type": "code",
      "source": [],
      "metadata": {
        "id": "8k-8y-ESyZiT"
      },
      "execution_count": 90,
      "outputs": []
    }
  ]
}